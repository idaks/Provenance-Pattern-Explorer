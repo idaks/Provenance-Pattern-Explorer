{
 "cells": [
  {
   "cell_type": "markdown",
   "metadata": {},
   "source": [
    "### Setup"
   ]
  },
  {
   "cell_type": "markdown",
   "metadata": {},
   "source": [
    "#### Imports"
   ]
  },
  {
   "cell_type": "code",
   "execution_count": 1,
   "metadata": {},
   "outputs": [],
   "source": [
    "%load_ext autoreload\n",
    "%autoreload 2"
   ]
  },
  {
   "cell_type": "code",
   "execution_count": 2,
   "metadata": {},
   "outputs": [],
   "source": [
    "from PW_explorer.load_worlds import load_worlds\n",
    "from PW_explorer.run_clingo import run_clingo\n",
    "from PW_explorer.visualize import PWEVisualization\n",
    "from PW_explorer.helper import pw_slicer, rel_slicer, rel_name_remapper\n",
    "from PW_explorer.export import PWEExport\n",
    "from PWE_NB_Extension.helper import ASPRules\n",
    "import pandas as pd\n",
    "import os\n",
    "from misc import *\n",
    "from DLV_Input_Parser.dlv_rules_parser import parse_dlv_rules"
   ]
  },
  {
   "cell_type": "code",
   "execution_count": 3,
   "metadata": {},
   "outputs": [],
   "source": [
    "import networkx as nx\n",
    "from nxpd import draw\n",
    "import nxpd\n",
    "from nxpd import nxpdParams\n",
    "nxpdParams['show'] = 'ipynb'"
   ]
  },
  {
   "cell_type": "code",
   "execution_count": 4,
   "metadata": {},
   "outputs": [
    {
     "data": {
      "application/javascript": [
       "IPython.CodeCell.options_default.highlight_modes['prolog'] = {'reg':[/^%%(clingo|dlv)/]};"
      ]
     },
     "metadata": {},
     "output_type": "display_data"
    }
   ],
   "source": [
    "%load_ext PWE_NB_Extension"
   ]
  },
  {
   "cell_type": "markdown",
   "metadata": {},
   "source": [
    "#### Helper Functions"
   ]
  },
  {
   "cell_type": "code",
   "execution_count": 5,
   "metadata": {},
   "outputs": [],
   "source": [
    "def save_query_figs(query_analysis, folder='2hop_2_all_patterns_new'):\n",
    "    fnames = {}\n",
    "    os.makedirs(folder, exist_ok=True)\n",
    "    for pw_id in range(1, len(query_analysis['pw_objs'])+1):\n",
    "        pw_rel_dfs, pw_objs = pw_slicer(query_analysis['pw_rel_dfs'], query_analysis['pw_objs'], [pw_id])\n",
    "        pw_obj = pw_objs[0]\n",
    "\n",
    "        node_fig_g = get_pattern_graph3(pw_rel_dfs, pw_obj, silent=True, \n",
    "                                        q_head='none', \n",
    "                                        chain_eq_node_labels=False)\n",
    "        q_str = print_rewritten_query_string(pw_rel_dfs, html=False, display_q=False, include_ineqls=False)\n",
    "        q_str = q_str.replace('thop', 'q')\n",
    "        node_fig_g.graph['label'] = q_str\n",
    "        node_fig_g.graph['labelloc'] = 't' # options 't', 'b'\n",
    "        fname = '{}.{}'.format('{}/pw_{}'.format(folder, pw_id), 'png')\n",
    "        fname_gv = '{}.{}'.format('{}/pw_{}'.format(folder, pw_id), 'gv')\n",
    "        draw(node_fig_g, filename=fname, show=False)\n",
    "        draw(node_fig_g, filename=fname_gv, show=False)\n",
    "        fnames[pw_id] = fname\n",
    "    return fnames"
   ]
  },
  {
   "cell_type": "markdown",
   "metadata": {},
   "source": [
    "#### Supplementary ASP Encodings"
   ]
  },
  {
   "cell_type": "code",
   "execution_count": 6,
   "metadata": {},
   "outputs": [],
   "source": [
    "%%clingo --donot-display_input --donot-run -lci query_analysis_suppl\n",
    "\n",
    "% schema ruleOccTrue(ATOM, OCC)\n",
    "ruleOccTrue(R, OC) :- ruleOcc(R, OC).\n",
    "% schema ruleHTrue(HEAD)\n",
    "ruleHTrue(H)  :- ruleH(H).\n",
    "% schema newVar(VAR, DOMAIN)\n",
    "newVar(VAR, TYPE) :- var(VAR, TYPE), not eqOrd(_,VAR,TYPE).\n",
    "% schema eqOrdMinimal(VAR1, VAR2, DOMAIN)\n",
    "eqOrdMinimal(A,B,TYPE) :- eqOrd(A,B,TYPE), newVar(A,TYPE).\n",
    "% schema neqOrd(VAR1, VAR2, DOMAIN)\n",
    "neqOrd(A,B,TYPE) :- newVar(A,TYPE), newVar(B,TYPE), A<B.\n",
    "\n",
    "% New inferred edges\n",
    "% schema e(NODE1, NODE2)\n",
    "e(V1,V2) :- newArc(V1, 1, e, OCC), newArc(V2, 2, e, OCC).\n",
    "% schema e(OCC, NODE1, NODE2)\n",
    "e(OCC,V1,V2) :- newArc(V1, 1, e, OCC), newArc(V2, 2, e, OCC).\n",
    "    \n",
    "%graphviz graph graph_type=directed rankdir=LR\n",
    "%graphviz edge newArc(HEAD, _, TAIL) label=$2\n",
    "%graphviz node ruleOccTrue(N) color=green\n",
    "\n",
    "#show ruleOccTrue/2.\n",
    "#show ruleHTrue/1.\n",
    "#show var/2.\n",
    "#show newVar/2.\n",
    "#show ruleOcc/2.\n",
    "#show ruleH/1.\n",
    "#show eqOrd/3.\n",
    "#show neqOrd/3.\n",
    "#show eqOrdMinimal/3.\n",
    "#show arc/4.\n",
    "#show newArc/4.\n",
    "#show hArc/3.\n",
    "#show newHArc/3.\n",
    "#show e/2.\n",
    "#show e/3."
   ]
  },
  {
   "cell_type": "markdown",
   "metadata": {},
   "source": [
    "### Query Analysis"
   ]
  },
  {
   "cell_type": "markdown",
   "metadata": {},
   "source": [
    "Say we want to statically analyze the 2hop/2 query:\n",
    "\n",
    "__thop(X,Y) :- e(X,Z), e(Z,Y).__\n",
    "\n",
    "To do this, we first encode the query as a incidence graph as shown below:"
   ]
  },
  {
   "cell_type": "code",
   "execution_count": 7,
   "metadata": {},
   "outputs": [],
   "source": [
    "query_str = \"thop(X,Y) :- e(X,Z), e(Z,Y).\""
   ]
  },
  {
   "cell_type": "code",
   "execution_count": 8,
   "metadata": {},
   "outputs": [],
   "source": [
    "def get_query_incidence_graph_encoding(asp_rule):\n",
    "    listener = parse_dlv_rules(asp_rule, print_parse_tree=False)\n",
    "    \n",
    "    schema_defs = [\n",
    "        '% schema var(VAR, DOMAIN).',\n",
    "        '% schema ruleOcc(ATOM, OCC).',\n",
    "        '% schema ruleH(HEAD).',\n",
    "        '% schema arc(VAR, POS, ATOM, OCC).',\n",
    "        '% schema hArc(VAR, POS, HEAD).',\n",
    "    ]\n",
    "    rule_vars = set([])\n",
    "    rule_occ_nodes = []\n",
    "    rule_inc_edges = []\n",
    "    rule_head_nodes = []\n",
    "    head_inc_edges = []\n",
    "    \n",
    "    \n",
    "    assert len(listener.rules) == 1\n",
    "    \n",
    "    for rule in listener.rules:\n",
    "        head_atoms, tail_atoms = rule[0], rule[1]\n",
    "        \n",
    "        for i, ruleOcc in enumerate(tail_atoms):\n",
    "            rule_vars.update(set(ruleOcc.vars))\n",
    "            rule_occ_nodes.append(f'ruleOcc({ruleOcc.rel_name}, {i+1}).')\n",
    "            for j, ruleOcc_v in enumerate(ruleOcc.vars):\n",
    "                rule_inc_edges.append(f'arc(\"{ruleOcc_v}\", {j+1}, {ruleOcc.rel_name}, {i+1}).')\n",
    "\n",
    "        for i, ruleH in enumerate(head_atoms):\n",
    "            rule_vars.update(set(ruleH.vars))\n",
    "            rule_head_nodes.append(f'ruleH({ruleH.rel_name}).')\n",
    "            for j, ruleH_v in enumerate(ruleH.vars):\n",
    "                head_inc_edges.append(f'hArc(\"{ruleH_v}\", {j+1}, {ruleH.rel_name}).')\n",
    "    \n",
    "    var_nodes = [f'var(\"{v}\", node).' for v in rule_vars]\n",
    "    \n",
    "    return schema_defs + var_nodes + rule_occ_nodes + rule_inc_edges + rule_head_nodes + head_inc_edges"
   ]
  },
  {
   "cell_type": "code",
   "execution_count": 9,
   "metadata": {},
   "outputs": [
    {
     "data": {
      "text/html": [
       "\n",
       "        <style>\n",
       "        .highlight .hll { background-color: #ffffcc }\n",
       ".highlight  { background: #f8f8f8; }\n",
       ".highlight .c { color: #408080; font-style: italic } /* Comment */\n",
       ".highlight .err { border: 1px solid #FF0000 } /* Error */\n",
       ".highlight .k { color: #008000; font-weight: bold } /* Keyword */\n",
       ".highlight .o { color: #666666 } /* Operator */\n",
       ".highlight .ch { color: #408080; font-style: italic } /* Comment.Hashbang */\n",
       ".highlight .cm { color: #408080; font-style: italic } /* Comment.Multiline */\n",
       ".highlight .cp { color: #BC7A00 } /* Comment.Preproc */\n",
       ".highlight .cpf { color: #408080; font-style: italic } /* Comment.PreprocFile */\n",
       ".highlight .c1 { color: #408080; font-style: italic } /* Comment.Single */\n",
       ".highlight .cs { color: #408080; font-style: italic } /* Comment.Special */\n",
       ".highlight .gd { color: #A00000 } /* Generic.Deleted */\n",
       ".highlight .ge { font-style: italic } /* Generic.Emph */\n",
       ".highlight .gr { color: #FF0000 } /* Generic.Error */\n",
       ".highlight .gh { color: #000080; font-weight: bold } /* Generic.Heading */\n",
       ".highlight .gi { color: #00A000 } /* Generic.Inserted */\n",
       ".highlight .go { color: #888888 } /* Generic.Output */\n",
       ".highlight .gp { color: #000080; font-weight: bold } /* Generic.Prompt */\n",
       ".highlight .gs { font-weight: bold } /* Generic.Strong */\n",
       ".highlight .gu { color: #800080; font-weight: bold } /* Generic.Subheading */\n",
       ".highlight .gt { color: #0044DD } /* Generic.Traceback */\n",
       ".highlight .kc { color: #008000; font-weight: bold } /* Keyword.Constant */\n",
       ".highlight .kd { color: #008000; font-weight: bold } /* Keyword.Declaration */\n",
       ".highlight .kn { color: #008000; font-weight: bold } /* Keyword.Namespace */\n",
       ".highlight .kp { color: #008000 } /* Keyword.Pseudo */\n",
       ".highlight .kr { color: #008000; font-weight: bold } /* Keyword.Reserved */\n",
       ".highlight .kt { color: #B00040 } /* Keyword.Type */\n",
       ".highlight .m { color: #666666 } /* Literal.Number */\n",
       ".highlight .s { color: #BA2121 } /* Literal.String */\n",
       ".highlight .na { color: #7D9029 } /* Name.Attribute */\n",
       ".highlight .nb { color: #008000 } /* Name.Builtin */\n",
       ".highlight .nc { color: #0000FF; font-weight: bold } /* Name.Class */\n",
       ".highlight .no { color: #880000 } /* Name.Constant */\n",
       ".highlight .nd { color: #AA22FF } /* Name.Decorator */\n",
       ".highlight .ni { color: #999999; font-weight: bold } /* Name.Entity */\n",
       ".highlight .ne { color: #D2413A; font-weight: bold } /* Name.Exception */\n",
       ".highlight .nf { color: #0000FF } /* Name.Function */\n",
       ".highlight .nl { color: #A0A000 } /* Name.Label */\n",
       ".highlight .nn { color: #0000FF; font-weight: bold } /* Name.Namespace */\n",
       ".highlight .nt { color: #008000; font-weight: bold } /* Name.Tag */\n",
       ".highlight .nv { color: #19177C } /* Name.Variable */\n",
       ".highlight .ow { color: #AA22FF; font-weight: bold } /* Operator.Word */\n",
       ".highlight .w { color: #bbbbbb } /* Text.Whitespace */\n",
       ".highlight .mb { color: #666666 } /* Literal.Number.Bin */\n",
       ".highlight .mf { color: #666666 } /* Literal.Number.Float */\n",
       ".highlight .mh { color: #666666 } /* Literal.Number.Hex */\n",
       ".highlight .mi { color: #666666 } /* Literal.Number.Integer */\n",
       ".highlight .mo { color: #666666 } /* Literal.Number.Oct */\n",
       ".highlight .sa { color: #BA2121 } /* Literal.String.Affix */\n",
       ".highlight .sb { color: #BA2121 } /* Literal.String.Backtick */\n",
       ".highlight .sc { color: #BA2121 } /* Literal.String.Char */\n",
       ".highlight .dl { color: #BA2121 } /* Literal.String.Delimiter */\n",
       ".highlight .sd { color: #BA2121; font-style: italic } /* Literal.String.Doc */\n",
       ".highlight .s2 { color: #BA2121 } /* Literal.String.Double */\n",
       ".highlight .se { color: #BB6622; font-weight: bold } /* Literal.String.Escape */\n",
       ".highlight .sh { color: #BA2121 } /* Literal.String.Heredoc */\n",
       ".highlight .si { color: #BB6688; font-weight: bold } /* Literal.String.Interpol */\n",
       ".highlight .sx { color: #008000 } /* Literal.String.Other */\n",
       ".highlight .sr { color: #BB6688 } /* Literal.String.Regex */\n",
       ".highlight .s1 { color: #BA2121 } /* Literal.String.Single */\n",
       ".highlight .ss { color: #19177C } /* Literal.String.Symbol */\n",
       ".highlight .bp { color: #008000 } /* Name.Builtin.Pseudo */\n",
       ".highlight .fm { color: #0000FF } /* Name.Function.Magic */\n",
       ".highlight .vc { color: #19177C } /* Name.Variable.Class */\n",
       ".highlight .vg { color: #19177C } /* Name.Variable.Global */\n",
       ".highlight .vi { color: #19177C } /* Name.Variable.Instance */\n",
       ".highlight .vm { color: #19177C } /* Name.Variable.Magic */\n",
       ".highlight .il { color: #666666 } /* Literal.Number.Integer.Long */\n",
       "        </style>\n",
       "        "
      ],
      "text/plain": [
       "<IPython.core.display.HTML object>"
      ]
     },
     "metadata": {},
     "output_type": "display_data"
    },
    {
     "data": {
      "text/html": [
       "<div class=\"highlight\"><pre><span></span><span class=\"lineno\"> 1 </span><span class=\"c1\">% schema var(VAR, DOMAIN).</span>\n",
       "<span class=\"lineno\"> 2 </span><span class=\"c1\">% schema ruleOcc(ATOM, OCC).</span>\n",
       "<span class=\"lineno\"> 3 </span><span class=\"c1\">% schema ruleH(HEAD).</span>\n",
       "<span class=\"lineno\"> 4 </span><span class=\"c1\">% schema arc(VAR, POS, ATOM, OCC).</span>\n",
       "<span class=\"lineno\"> 5 </span><span class=\"c1\">% schema hArc(VAR, POS, HEAD).</span>\n",
       "<span class=\"lineno\"> 6 </span><span class=\"nf\">var</span><span class=\"p\">(</span><span class=\"s2\">&quot;X&quot;</span><span class=\"p\">,</span> <span class=\"s s-Atom\">node</span><span class=\"p\">).</span>\n",
       "<span class=\"lineno\"> 7 </span><span class=\"nf\">var</span><span class=\"p\">(</span><span class=\"s2\">&quot;Y&quot;</span><span class=\"p\">,</span> <span class=\"s s-Atom\">node</span><span class=\"p\">).</span>\n",
       "<span class=\"lineno\"> 8 </span><span class=\"nf\">var</span><span class=\"p\">(</span><span class=\"s2\">&quot;Z&quot;</span><span class=\"p\">,</span> <span class=\"s s-Atom\">node</span><span class=\"p\">).</span>\n",
       "<span class=\"lineno\"> 9 </span><span class=\"nf\">ruleOcc</span><span class=\"p\">(</span><span class=\"s s-Atom\">e</span><span class=\"p\">,</span> <span class=\"mi\">1</span><span class=\"p\">).</span>\n",
       "<span class=\"lineno\">10 </span><span class=\"nf\">ruleOcc</span><span class=\"p\">(</span><span class=\"s s-Atom\">e</span><span class=\"p\">,</span> <span class=\"mi\">2</span><span class=\"p\">).</span>\n",
       "<span class=\"lineno\">11 </span><span class=\"nf\">arc</span><span class=\"p\">(</span><span class=\"s2\">&quot;X&quot;</span><span class=\"p\">,</span> <span class=\"mi\">1</span><span class=\"p\">,</span> <span class=\"s s-Atom\">e</span><span class=\"p\">,</span> <span class=\"mi\">1</span><span class=\"p\">).</span>\n",
       "<span class=\"lineno\">12 </span><span class=\"nf\">arc</span><span class=\"p\">(</span><span class=\"s2\">&quot;Z&quot;</span><span class=\"p\">,</span> <span class=\"mi\">2</span><span class=\"p\">,</span> <span class=\"s s-Atom\">e</span><span class=\"p\">,</span> <span class=\"mi\">1</span><span class=\"p\">).</span>\n",
       "<span class=\"lineno\">13 </span><span class=\"nf\">arc</span><span class=\"p\">(</span><span class=\"s2\">&quot;Z&quot;</span><span class=\"p\">,</span> <span class=\"mi\">1</span><span class=\"p\">,</span> <span class=\"s s-Atom\">e</span><span class=\"p\">,</span> <span class=\"mi\">2</span><span class=\"p\">).</span>\n",
       "<span class=\"lineno\">14 </span><span class=\"nf\">arc</span><span class=\"p\">(</span><span class=\"s2\">&quot;Y&quot;</span><span class=\"p\">,</span> <span class=\"mi\">2</span><span class=\"p\">,</span> <span class=\"s s-Atom\">e</span><span class=\"p\">,</span> <span class=\"mi\">2</span><span class=\"p\">).</span>\n",
       "<span class=\"lineno\">15 </span><span class=\"nf\">ruleH</span><span class=\"p\">(</span><span class=\"s s-Atom\">thop</span><span class=\"p\">).</span>\n",
       "<span class=\"lineno\">16 </span><span class=\"nf\">hArc</span><span class=\"p\">(</span><span class=\"s2\">&quot;X&quot;</span><span class=\"p\">,</span> <span class=\"mi\">1</span><span class=\"p\">,</span> <span class=\"s s-Atom\">thop</span><span class=\"p\">).</span>\n",
       "<span class=\"lineno\">17 </span><span class=\"nf\">hArc</span><span class=\"p\">(</span><span class=\"s2\">&quot;Y&quot;</span><span class=\"p\">,</span> <span class=\"mi\">2</span><span class=\"p\">,</span> <span class=\"s s-Atom\">thop</span><span class=\"p\">).</span>\n",
       "</pre></div>\n"
      ],
      "text/plain": [
       "'% schema var(VAR, DOMAIN).\\n% schema ruleOcc(ATOM, OCC).\\n% schema ruleH(HEAD).\\n% schema arc(VAR, POS, ATOM, OCC).\\n% schema hArc(VAR, POS, HEAD).\\nvar(\"X\", node).\\nvar(\"Y\", node).\\nvar(\"Z\", node).\\nruleOcc(e, 1).\\nruleOcc(e, 2).\\narc(\"X\", 1, e, 1).\\narc(\"Z\", 2, e, 1).\\narc(\"Z\", 1, e, 2).\\narc(\"Y\", 2, e, 2).\\nruleH(thop).\\nhArc(\"X\", 1, thop).\\nhArc(\"Y\", 2, thop).'"
      ]
     },
     "execution_count": 9,
     "metadata": {},
     "output_type": "execute_result"
    }
   ],
   "source": [
    "thop_query_desc = get_query_incidence_graph_encoding(query_str)\n",
    "ASPRules(thop_query_desc)"
   ]
  },
  {
   "cell_type": "markdown",
   "metadata": {},
   "source": [
    "Next we encode the query analysis code that uses a query description such as the one above.\n",
    "\n",
    "Within this analysis, we create Bell-Number(n) (i.e. B<sub>n</sub>) many partitions where n is the number of distinct variable in the query.\n",
    "\n",
    "Then we recreate a new incidence graph where the we substitute each disjoint group in the partition with a representative variable (for simplicity, we use the lexicographically smallest variable)."
   ]
  },
  {
   "cell_type": "code",
   "execution_count": 10,
   "metadata": {},
   "outputs": [],
   "source": [
    "%%clingo --donot-display_input -lci query_analysis_enc --donot-run\n",
    "\n",
    "% Create variable partitions\n",
    "% schema eq(VAR1, VAR2, DOMAIN)\n",
    "eq(A,B,TYPE) ; not eq(A,B,TYPE) :- var(A, TYPE), var(B, TYPE), A!=B.\n",
    "eq(A,B,TYPE) :- eq(B,A,TYPE).\n",
    "eq(A,B,TYPE) :- eq(A,C,TYPE), eq(C,B,TYPE), A!=B, B!=C, A!=C.\n",
    "\n",
    "% Order the individual partitions\n",
    "% schema eqOrd(VAR1, VAR2, DOMAIN)\n",
    "eqOrd(A,B,TYPE) :- eq(A,B,TYPE), A<B.\n",
    "\n",
    "% Find the new arcs, getting rid of the redundant variables as per the orderings\n",
    "% schema newArc(VAR, POS, ATOM, OCC)\n",
    "newArc(VAR, POS, ATOM, OCC) :- arc(VAR_ORIG, POS, ATOM, OCC), eqOrd(VAR,VAR_ORIG,TYPE), not eqOrd(_,VAR,TYPE).\n",
    "newArc(VAR, POS, ATOM, OCC) :- arc(VAR, POS, ATOM, OCC), not eqOrd(_,VAR,_).\n",
    "\n",
    "% schema newHArc(VAR, POS, HEAD)\n",
    "newHArc(VAR, POS, H) :- hArc(VAR_ORIG,POS,H), eqOrd(VAR,VAR_ORIG,TYPE), not eqOrd(_,VAR,TYPE).\n",
    "newHArc(VAR, POS, H) :- hArc(VAR, POS, H), not eqOrd(_,VAR,_)."
   ]
  },
  {
   "cell_type": "markdown",
   "metadata": {},
   "source": [
    "With these two encodings, we can create the specialized queries that make up the original query.\n",
    "\n",
    "For clarity, let's project out the resultant e/2 and thop/2 relation that make up the query:"
   ]
  },
  {
   "cell_type": "code",
   "execution_count": 11,
   "metadata": {
    "scrolled": true
   },
   "outputs": [
    {
     "name": "stdout",
     "output_type": "stream",
     "text": [
      "Output:\n"
     ]
    },
    {
     "data": {
      "text/html": [
       "\n",
       "        <style>\n",
       "        .highlight .hll { background-color: #ffffcc }\n",
       ".highlight  { background: #f8f8f8; }\n",
       ".highlight .c { color: #408080; font-style: italic } /* Comment */\n",
       ".highlight .err { border: 1px solid #FF0000 } /* Error */\n",
       ".highlight .k { color: #008000; font-weight: bold } /* Keyword */\n",
       ".highlight .o { color: #666666 } /* Operator */\n",
       ".highlight .ch { color: #408080; font-style: italic } /* Comment.Hashbang */\n",
       ".highlight .cm { color: #408080; font-style: italic } /* Comment.Multiline */\n",
       ".highlight .cp { color: #BC7A00 } /* Comment.Preproc */\n",
       ".highlight .cpf { color: #408080; font-style: italic } /* Comment.PreprocFile */\n",
       ".highlight .c1 { color: #408080; font-style: italic } /* Comment.Single */\n",
       ".highlight .cs { color: #408080; font-style: italic } /* Comment.Special */\n",
       ".highlight .gd { color: #A00000 } /* Generic.Deleted */\n",
       ".highlight .ge { font-style: italic } /* Generic.Emph */\n",
       ".highlight .gr { color: #FF0000 } /* Generic.Error */\n",
       ".highlight .gh { color: #000080; font-weight: bold } /* Generic.Heading */\n",
       ".highlight .gi { color: #00A000 } /* Generic.Inserted */\n",
       ".highlight .go { color: #888888 } /* Generic.Output */\n",
       ".highlight .gp { color: #000080; font-weight: bold } /* Generic.Prompt */\n",
       ".highlight .gs { font-weight: bold } /* Generic.Strong */\n",
       ".highlight .gu { color: #800080; font-weight: bold } /* Generic.Subheading */\n",
       ".highlight .gt { color: #0044DD } /* Generic.Traceback */\n",
       ".highlight .kc { color: #008000; font-weight: bold } /* Keyword.Constant */\n",
       ".highlight .kd { color: #008000; font-weight: bold } /* Keyword.Declaration */\n",
       ".highlight .kn { color: #008000; font-weight: bold } /* Keyword.Namespace */\n",
       ".highlight .kp { color: #008000 } /* Keyword.Pseudo */\n",
       ".highlight .kr { color: #008000; font-weight: bold } /* Keyword.Reserved */\n",
       ".highlight .kt { color: #B00040 } /* Keyword.Type */\n",
       ".highlight .m { color: #666666 } /* Literal.Number */\n",
       ".highlight .s { color: #BA2121 } /* Literal.String */\n",
       ".highlight .na { color: #7D9029 } /* Name.Attribute */\n",
       ".highlight .nb { color: #008000 } /* Name.Builtin */\n",
       ".highlight .nc { color: #0000FF; font-weight: bold } /* Name.Class */\n",
       ".highlight .no { color: #880000 } /* Name.Constant */\n",
       ".highlight .nd { color: #AA22FF } /* Name.Decorator */\n",
       ".highlight .ni { color: #999999; font-weight: bold } /* Name.Entity */\n",
       ".highlight .ne { color: #D2413A; font-weight: bold } /* Name.Exception */\n",
       ".highlight .nf { color: #0000FF } /* Name.Function */\n",
       ".highlight .nl { color: #A0A000 } /* Name.Label */\n",
       ".highlight .nn { color: #0000FF; font-weight: bold } /* Name.Namespace */\n",
       ".highlight .nt { color: #008000; font-weight: bold } /* Name.Tag */\n",
       ".highlight .nv { color: #19177C } /* Name.Variable */\n",
       ".highlight .ow { color: #AA22FF; font-weight: bold } /* Operator.Word */\n",
       ".highlight .w { color: #bbbbbb } /* Text.Whitespace */\n",
       ".highlight .mb { color: #666666 } /* Literal.Number.Bin */\n",
       ".highlight .mf { color: #666666 } /* Literal.Number.Float */\n",
       ".highlight .mh { color: #666666 } /* Literal.Number.Hex */\n",
       ".highlight .mi { color: #666666 } /* Literal.Number.Integer */\n",
       ".highlight .mo { color: #666666 } /* Literal.Number.Oct */\n",
       ".highlight .sa { color: #BA2121 } /* Literal.String.Affix */\n",
       ".highlight .sb { color: #BA2121 } /* Literal.String.Backtick */\n",
       ".highlight .sc { color: #BA2121 } /* Literal.String.Char */\n",
       ".highlight .dl { color: #BA2121 } /* Literal.String.Delimiter */\n",
       ".highlight .sd { color: #BA2121; font-style: italic } /* Literal.String.Doc */\n",
       ".highlight .s2 { color: #BA2121 } /* Literal.String.Double */\n",
       ".highlight .se { color: #BB6622; font-weight: bold } /* Literal.String.Escape */\n",
       ".highlight .sh { color: #BA2121 } /* Literal.String.Heredoc */\n",
       ".highlight .si { color: #BB6688; font-weight: bold } /* Literal.String.Interpol */\n",
       ".highlight .sx { color: #008000 } /* Literal.String.Other */\n",
       ".highlight .sr { color: #BB6688 } /* Literal.String.Regex */\n",
       ".highlight .s1 { color: #BA2121 } /* Literal.String.Single */\n",
       ".highlight .ss { color: #19177C } /* Literal.String.Symbol */\n",
       ".highlight .bp { color: #008000 } /* Name.Builtin.Pseudo */\n",
       ".highlight .fm { color: #0000FF } /* Name.Function.Magic */\n",
       ".highlight .vc { color: #19177C } /* Name.Variable.Class */\n",
       ".highlight .vg { color: #19177C } /* Name.Variable.Global */\n",
       ".highlight .vi { color: #19177C } /* Name.Variable.Instance */\n",
       ".highlight .vm { color: #19177C } /* Name.Variable.Magic */\n",
       ".highlight .il { color: #666666 } /* Literal.Number.Integer.Long */\n",
       "        </style>\n",
       "        "
      ],
      "text/plain": [
       "<IPython.core.display.HTML object>"
      ]
     },
     "metadata": {},
     "output_type": "display_data"
    },
    {
     "data": {
      "text/html": [
       "<div class=\"highlight\"><pre><span></span><span class=\"lineno\"> 1 </span><span class=\"nv\">Answer</span><span class=\"s s-Atom\">:</span> <span class=\"mi\">1</span>\n",
       "<span class=\"lineno\"> 2 </span><span class=\"nf\">thop</span><span class=\"p\">(</span><span class=\"s2\">&quot;X&quot;</span><span class=\"p\">,</span><span class=\"s2\">&quot;Y&quot;</span><span class=\"p\">)</span> <span class=\"nf\">e</span><span class=\"p\">(</span><span class=\"s2\">&quot;X&quot;</span><span class=\"p\">,</span><span class=\"s2\">&quot;Z&quot;</span><span class=\"p\">)</span> <span class=\"nf\">e</span><span class=\"p\">(</span><span class=\"s2\">&quot;Z&quot;</span><span class=\"p\">,</span><span class=\"s2\">&quot;Y&quot;</span><span class=\"p\">)</span>\n",
       "<span class=\"lineno\"> 3 </span><span class=\"nv\">Answer</span><span class=\"s s-Atom\">:</span> <span class=\"mi\">2</span>\n",
       "<span class=\"lineno\"> 4 </span><span class=\"nf\">thop</span><span class=\"p\">(</span><span class=\"s2\">&quot;X&quot;</span><span class=\"p\">,</span><span class=\"s2\">&quot;Y&quot;</span><span class=\"p\">)</span> <span class=\"nf\">e</span><span class=\"p\">(</span><span class=\"s2\">&quot;X&quot;</span><span class=\"p\">,</span><span class=\"s2\">&quot;Y&quot;</span><span class=\"p\">)</span> <span class=\"nf\">e</span><span class=\"p\">(</span><span class=\"s2\">&quot;Y&quot;</span><span class=\"p\">,</span><span class=\"s2\">&quot;Y&quot;</span><span class=\"p\">)</span>\n",
       "<span class=\"lineno\"> 5 </span><span class=\"nv\">Answer</span><span class=\"s s-Atom\">:</span> <span class=\"mi\">3</span>\n",
       "<span class=\"lineno\"> 6 </span><span class=\"nf\">thop</span><span class=\"p\">(</span><span class=\"s2\">&quot;X&quot;</span><span class=\"p\">,</span><span class=\"s2\">&quot;Y&quot;</span><span class=\"p\">)</span> <span class=\"nf\">e</span><span class=\"p\">(</span><span class=\"s2\">&quot;X&quot;</span><span class=\"p\">,</span><span class=\"s2\">&quot;X&quot;</span><span class=\"p\">)</span> <span class=\"nf\">e</span><span class=\"p\">(</span><span class=\"s2\">&quot;X&quot;</span><span class=\"p\">,</span><span class=\"s2\">&quot;Y&quot;</span><span class=\"p\">)</span>\n",
       "<span class=\"lineno\"> 7 </span><span class=\"nv\">Answer</span><span class=\"s s-Atom\">:</span> <span class=\"mi\">4</span>\n",
       "<span class=\"lineno\"> 8 </span><span class=\"nf\">thop</span><span class=\"p\">(</span><span class=\"s2\">&quot;X&quot;</span><span class=\"p\">,</span><span class=\"s2\">&quot;X&quot;</span><span class=\"p\">)</span> <span class=\"nf\">e</span><span class=\"p\">(</span><span class=\"s2\">&quot;Z&quot;</span><span class=\"p\">,</span><span class=\"s2\">&quot;X&quot;</span><span class=\"p\">)</span> <span class=\"nf\">e</span><span class=\"p\">(</span><span class=\"s2\">&quot;X&quot;</span><span class=\"p\">,</span><span class=\"s2\">&quot;Z&quot;</span><span class=\"p\">)</span>\n",
       "<span class=\"lineno\"> 9 </span><span class=\"nv\">Answer</span><span class=\"s s-Atom\">:</span> <span class=\"mi\">5</span>\n",
       "<span class=\"lineno\">10 </span><span class=\"nf\">thop</span><span class=\"p\">(</span><span class=\"s2\">&quot;X&quot;</span><span class=\"p\">,</span><span class=\"s2\">&quot;X&quot;</span><span class=\"p\">)</span> <span class=\"nf\">e</span><span class=\"p\">(</span><span class=\"s2\">&quot;X&quot;</span><span class=\"p\">,</span><span class=\"s2\">&quot;X&quot;</span><span class=\"p\">)</span>\n",
       "<span class=\"lineno\">11 </span><span class=\"nv\">SATISFIABLE</span>\n",
       "<span class=\"lineno\">12 </span>\n",
       "<span class=\"lineno\">13 </span><span class=\"nv\">Models</span>       <span class=\"s s-Atom\">:</span> <span class=\"mi\">5</span>\n",
       "<span class=\"lineno\">14 </span><span class=\"nv\">Calls</span>        <span class=\"s s-Atom\">:</span> <span class=\"mi\">1</span>\n",
       "<span class=\"lineno\">15 </span><span class=\"nv\">Time</span>         <span class=\"s s-Atom\">:</span> <span class=\"mf\">0.002</span><span class=\"nf\">s</span> <span class=\"p\">(</span><span class=\"nv\">Solving</span><span class=\"s s-Atom\">:</span> <span class=\"mf\">0.00</span><span class=\"s s-Atom\">s</span> <span class=\"mi\">1</span><span class=\"s s-Atom\">st</span> <span class=\"nv\">Model</span><span class=\"s s-Atom\">:</span> <span class=\"mf\">0.00</span><span class=\"s s-Atom\">s</span> <span class=\"nv\">Unsat</span><span class=\"s s-Atom\">:</span> <span class=\"mf\">0.00</span><span class=\"s s-Atom\">s</span><span class=\"p\">)</span>\n",
       "<span class=\"lineno\">16 </span><span class=\"nv\">CPU</span> <span class=\"nv\">Time</span>     <span class=\"s s-Atom\">:</span> <span class=\"mf\">0.002</span><span class=\"s s-Atom\">s</span>\n",
       "</pre></div>\n"
      ],
      "text/plain": [
       "'Answer: 1\\nthop(\"X\",\"Y\") e(\"X\",\"Z\") e(\"Z\",\"Y\")\\nAnswer: 2\\nthop(\"X\",\"Y\") e(\"X\",\"Y\") e(\"Y\",\"Y\")\\nAnswer: 3\\nthop(\"X\",\"Y\") e(\"X\",\"X\") e(\"X\",\"Y\")\\nAnswer: 4\\nthop(\"X\",\"X\") e(\"Z\",\"X\") e(\"X\",\"Z\")\\nAnswer: 5\\nthop(\"X\",\"X\") e(\"X\",\"X\")\\nSATISFIABLE\\n\\nModels       : 5\\nCalls        : 1\\nTime         : 0.002s (Solving: 0.00s 1st Model: 0.00s Unsat: 0.00s)\\nCPU Time     : 0.002s'"
      ]
     },
     "metadata": {},
     "output_type": "display_data"
    }
   ],
   "source": [
    "%%clingo --donot-display_input -l query_analysis_enc thop_query_desc\n",
    "\n",
    "e(V1,V2) :- newArc(V1, 1, e, OCC), newArc(V2, 2, e, OCC).\n",
    "thop(V1,V2) :- newHArc(V1,1,thop), newHArc(V2,2,thop).\n",
    "#show e/2.\n",
    "#show thop/2."
   ]
  },
  {
   "cell_type": "markdown",
   "metadata": {},
   "source": [
    "As we can see, we get B<sub>4</sub> (= 15) PWs. The outputs above showcase a canonical database that would satisfy the specialized query that these PWs represent.\n",
    "\n",
    "First we load these PWs in using the PWE Tool."
   ]
  },
  {
   "cell_type": "code",
   "execution_count": 12,
   "metadata": {},
   "outputs": [],
   "source": [
    "%clingo --donot-display_input --donot-display_output -l query_analysis_enc thop_query_desc query_analysis_suppl -exp query_analysis"
   ]
  },
  {
   "cell_type": "code",
   "execution_count": 13,
   "metadata": {},
   "outputs": [
    {
     "name": "stdout",
     "output_type": "stream",
     "text": [
      "Number of Models: 5\n"
     ]
    }
   ],
   "source": [
    "query_analysis['pw_rel_dfs'], query_analysis['rel_schema'], query_analysis['pw_objs'] =load_worlds(query_analysis['asp_soln'],\n",
    "                                                                                                   query_analysis['meta_data'])\n"
   ]
  },
  {
   "cell_type": "code",
   "execution_count": 14,
   "metadata": {},
   "outputs": [],
   "source": [
    "if 'hArc_3' not in query_analysis['pw_rel_dfs']:\n",
    "    query_analysis['pw_rel_dfs']['hArc_3'] = pd.DataFrame(columns=['pw', 'VAR', 'POS', 'HEAD'])\n",
    "if 'newHArc_3' not in query_analysis['pw_rel_dfs']:\n",
    "    query_analysis['pw_rel_dfs']['newHArc_3'] = pd.DataFrame(columns=['pw', 'VAR', 'POS', 'HEAD'])\n",
    "for i in range(len(query_analysis['pw_objs'])):\n",
    "    if 'hArc_3' not in query_analysis['pw_objs'][i].rls:\n",
    "        query_analysis['pw_objs'][i].rls['hArc_3'] = []\n",
    "    if 'newHArc_3' not in query_analysis['pw_objs'][i].rls:\n",
    "        query_analysis['pw_objs'][i].rls['newHArc_3'] = []\n",
    "    if 'ruleHTrue_1' not in query_analysis['pw_objs'][i].rls:\n",
    "        query_analysis['pw_objs'][i].rls['ruleHTrue_1'] = []"
   ]
  },
  {
   "cell_type": "markdown",
   "metadata": {},
   "source": [
    "With some simple python and ASP magic, we can create these specialized queries, their canonical databases and visualize the graph patterns these canonical databases represent."
   ]
  },
  {
   "cell_type": "code",
   "execution_count": 15,
   "metadata": {
    "scrolled": true
   },
   "outputs": [
    {
     "name": "stdout",
     "output_type": "stream",
     "text": [
      "------------------------------------------------------------\n",
      "\n",
      "PW: 1\n",
      "\n",
      "Partitioning Description:\n"
     ]
    },
    {
     "data": {
      "text/html": [
       "<text style=color:black><text style=color:green>thop(X,Y)</text> :- <text style=color:green>e(X,Z)</text>, <text style=color:green>e(Z,Y)</text>. % <text style=color:blue>[Z][X][Y]</text></text>"
      ],
      "text/plain": [
       "<IPython.core.display.HTML object>"
      ]
     },
     "metadata": {},
     "output_type": "display_data"
    },
    {
     "name": "stdout",
     "output_type": "stream",
     "text": [
      "Specialized Query:\n"
     ]
    },
    {
     "data": {
      "text/html": [
       "<text style=color:black><text style=color:green>thop(X,Y)</text> :- <text style=color:green>e(X,Z)</text>, <text style=color:green>e(Z,Y)</text>, X != Y, X != Z, Y != Z.</text>"
      ],
      "text/plain": [
       "<IPython.core.display.HTML object>"
      ]
     },
     "metadata": {},
     "output_type": "display_data"
    },
    {
     "name": "stdout",
     "output_type": "stream",
     "text": [
      "Canonical DB:\n",
      "e(\"X\",\"Z\"). e(\"Z\",\"Y\"). thop(\"X\",\"Y\").\n"
     ]
    },
    {
     "data": {
      "image/png": "[encoded data removed]",
      "text/plain": [
       "<IPython.core.display.Image object>"
      ]
     },
     "metadata": {},
     "output_type": "display_data"
    },
    {
     "name": "stdout",
     "output_type": "stream",
     "text": [
      "------------------------------------------------------------\n",
      "------------------------------------------------------------\n",
      "\n",
      "PW: 2\n",
      "\n",
      "Partitioning Description:\n"
     ]
    },
    {
     "data": {
      "text/html": [
       "<text style=color:black><text style=color:green>thop(X,Y)</text> :- <text style=color:green>e(X,Z)</text>, <text style=color:green>e(Z,Y)</text>. % <text style=color:blue>[Y=Z][X]</text></text>"
      ],
      "text/plain": [
       "<IPython.core.display.HTML object>"
      ]
     },
     "metadata": {},
     "output_type": "display_data"
    },
    {
     "name": "stdout",
     "output_type": "stream",
     "text": [
      "Specialized Query:\n"
     ]
    },
    {
     "data": {
      "text/html": [
       "<text style=color:black><text style=color:green>thop(X,Y)</text> :- <text style=color:green>e(X,Z)</text>, <text style=color:green>e(Z,Y)</text>, Y=Z, X != Y.</text>"
      ],
      "text/plain": [
       "<IPython.core.display.HTML object>"
      ]
     },
     "metadata": {},
     "output_type": "display_data"
    },
    {
     "name": "stdout",
     "output_type": "stream",
     "text": [
      "Canonical DB:\n",
      "e(\"X\",\"Y\"). e(\"Y\",\"Y\"). thop(\"X\",\"Y\").\n"
     ]
    },
    {
     "data": {
      "image/png": "[encoded data removed]",
      "text/plain": [
       "<IPython.core.display.Image object>"
      ]
     },
     "metadata": {},
     "output_type": "display_data"
    },
    {
     "name": "stdout",
     "output_type": "stream",
     "text": [
      "------------------------------------------------------------\n",
      "------------------------------------------------------------\n",
      "\n",
      "PW: 3\n",
      "\n",
      "Partitioning Description:\n"
     ]
    },
    {
     "data": {
      "text/html": [
       "<text style=color:black><text style=color:green>thop(X,Y)</text> :- <text style=color:green>e(X,Z)</text>, <text style=color:green>e(Z,Y)</text>. % <text style=color:blue>[X=Z][Y]</text></text>"
      ],
      "text/plain": [
       "<IPython.core.display.HTML object>"
      ]
     },
     "metadata": {},
     "output_type": "display_data"
    },
    {
     "name": "stdout",
     "output_type": "stream",
     "text": [
      "Specialized Query:\n"
     ]
    },
    {
     "data": {
      "text/html": [
       "<text style=color:black><text style=color:green>thop(X,Y)</text> :- <text style=color:green>e(X,Z)</text>, <text style=color:green>e(Z,Y)</text>, X=Z, X != Y.</text>"
      ],
      "text/plain": [
       "<IPython.core.display.HTML object>"
      ]
     },
     "metadata": {},
     "output_type": "display_data"
    },
    {
     "name": "stdout",
     "output_type": "stream",
     "text": [
      "Canonical DB:\n",
      "e(\"X\",\"X\"). e(\"X\",\"Y\"). thop(\"X\",\"Y\").\n"
     ]
    },
    {
     "data": {
      "image/png": "[encoded data removed]",
      "text/plain": [
       "<IPython.core.display.Image object>"
      ]
     },
     "metadata": {},
     "output_type": "display_data"
    },
    {
     "name": "stdout",
     "output_type": "stream",
     "text": [
      "------------------------------------------------------------\n",
      "------------------------------------------------------------\n",
      "\n",
      "PW: 4\n",
      "\n",
      "Partitioning Description:\n"
     ]
    },
    {
     "data": {
      "text/html": [
       "<text style=color:black><text style=color:green>thop(X,Y)</text> :- <text style=color:green>e(X,Z)</text>, <text style=color:green>e(Z,Y)</text>. % <text style=color:blue>[X=Y][Z]</text></text>"
      ],
      "text/plain": [
       "<IPython.core.display.HTML object>"
      ]
     },
     "metadata": {},
     "output_type": "display_data"
    },
    {
     "name": "stdout",
     "output_type": "stream",
     "text": [
      "Specialized Query:\n"
     ]
    },
    {
     "data": {
      "text/html": [
       "<text style=color:black><text style=color:green>thop(X,Y)</text> :- <text style=color:green>e(X,Z)</text>, <text style=color:green>e(Z,Y)</text>, X=Y, X != Z.</text>"
      ],
      "text/plain": [
       "<IPython.core.display.HTML object>"
      ]
     },
     "metadata": {},
     "output_type": "display_data"
    },
    {
     "name": "stdout",
     "output_type": "stream",
     "text": [
      "Canonical DB:\n",
      "e(\"Z\",\"X\"). e(\"X\",\"Z\"). thop(\"X\",\"X\").\n"
     ]
    },
    {
     "data": {
      "image/png": "[encoded data removed]",
      "text/plain": [
       "<IPython.core.display.Image object>"
      ]
     },
     "metadata": {},
     "output_type": "display_data"
    },
    {
     "name": "stdout",
     "output_type": "stream",
     "text": [
      "------------------------------------------------------------\n",
      "------------------------------------------------------------\n",
      "\n",
      "PW: 5\n",
      "\n",
      "Partitioning Description:\n"
     ]
    },
    {
     "data": {
      "text/html": [
       "<text style=color:black><text style=color:green>thop(X,Y)</text> :- <text style=color:green>e(X,Z)</text>, <text style=color:green>e(Z,Y)</text>. % <text style=color:blue>[X=Y=Z]</text></text>"
      ],
      "text/plain": [
       "<IPython.core.display.HTML object>"
      ]
     },
     "metadata": {},
     "output_type": "display_data"
    },
    {
     "name": "stdout",
     "output_type": "stream",
     "text": [
      "Specialized Query:\n"
     ]
    },
    {
     "data": {
      "text/html": [
       "<text style=color:black><text style=color:green>thop(X,Y)</text> :- <text style=color:green>e(X,Z)</text>, <text style=color:green>e(Z,Y)</text>, X=Y, X=Z.</text>"
      ],
      "text/plain": [
       "<IPython.core.display.HTML object>"
      ]
     },
     "metadata": {},
     "output_type": "display_data"
    },
    {
     "name": "stdout",
     "output_type": "stream",
     "text": [
      "Canonical DB:\n",
      "e(\"X\",\"X\"). thop(\"X\",\"X\").\n"
     ]
    },
    {
     "data": {
      "image/png": "[encoded data removed]",
      "text/plain": [
       "<IPython.core.display.Image object>"
      ]
     },
     "metadata": {},
     "output_type": "display_data"
    },
    {
     "name": "stdout",
     "output_type": "stream",
     "text": [
      "------------------------------------------------------------\n"
     ]
    }
   ],
   "source": [
    "for i in range(1, len(query_analysis['pw_objs'])+1):\n",
    "    print('-'*60)\n",
    "    print(\"\\nPW:\", i)\n",
    "    pw_rel_dfs, pw_objs = pw_slicer(query_analysis['pw_rel_dfs'], query_analysis['pw_objs'], [i])\n",
    "    pw_obj = pw_objs[0]\n",
    "    \n",
    "    print(\"\\nPartitioning Description:\")\n",
    "    print_fancy_rewrite(pw_rel_dfs)\n",
    "    \n",
    "    print(\"Specialized Query:\")\n",
    "    print_explicit_rewritten_query_string(pw_rel_dfs, chain_eq=False)\n",
    "    \n",
    "    print(\"Canonical DB:\")\n",
    "    pw_edge_facts = get_edge_facts(pw_obj)\n",
    "    pw_head_facts = get_query_head_facts(pw_obj)\n",
    "    print(\" \".join(pw_edge_facts+pw_head_facts))\n",
    "    g = get_pattern_graph3(pw_rel_dfs, pw_obj, silent=True, q_head='hyperedge')\n",
    "    # draw(g, filename='{}.{}'.format('3hop_all_patterns_new/pw_{}'.format(i), 'png'), show=False)\n",
    "    display(draw(g))\n",
    "    print('-'*60)"
   ]
  },
  {
   "cell_type": "code",
   "execution_count": 16,
   "metadata": {},
   "outputs": [],
   "source": [
    "pw_id_to_head_encoding = {\n",
    "    1: \"abc\",\n",
    "    2: \"abb\",\n",
    "    3: \"aab\",\n",
    "    4: \"aba\",\n",
    "    5: \"aaa\",\n",
    "}"
   ]
  },
  {
   "cell_type": "code",
   "execution_count": 17,
   "metadata": {},
   "outputs": [],
   "source": [
    "pw_id_to_encoding = pw_id_to_head_encoding"
   ]
  },
  {
   "cell_type": "markdown",
   "metadata": {},
   "source": [
    "Above, we can see for each PW, the variable partitions (in blue), followed by the specialized query the PW represents, followed by a textual and visual representation of the canonical database of the specialized query.\n",
    "\n",
    "These visual representations of the canonical databases are what we call ___graph-patterns___.\n",
    "\n",
    "One outstanding issue is that these specialized queries/patterns aren't disjoint, _yet_, i.e. some of them are equivalent. To find the set of disjoint set of these specialized queries/patterns, we check for isomorphisms between these canonical databases. If there exists an isomorphism between two canonical databases (and hence the graph patterns), the two specialized queries (and the graph patterns) are equivalent, and can be grouped together.\n",
    "\n",
    "Below is the encoding that checks if there exists such an isomorphism for two such canonical databases:"
   ]
  },
  {
   "cell_type": "code",
   "execution_count": 18,
   "metadata": {},
   "outputs": [],
   "source": [
    "def create_isomorphism_equivalence_encoding(asp_rule, show_nothing_rule=True):\n",
    "    listener = parse_dlv_rules(asp_rule, print_parse_tree=False)\n",
    "    \n",
    "    logic_atom_types = set([])\n",
    "    \n",
    "    assert len(listener.rules) == 1\n",
    "    \n",
    "    for rule in listener.rules:\n",
    "        head_atoms, tail_atoms = rule[0], rule[1]\n",
    "        for ruleOcc in head_atoms+tail_atoms:\n",
    "            logic_atom_types.add((ruleOcc.rel_name, ruleOcc.rel_arity))\n",
    "    \n",
    "    gnode_rules = []\n",
    "    vmap_rules = ['vmap(X,Y) ; not vmap(X,Y) :- gnode1(X), gnode2(Y).']\n",
    "    many_to_one_cond_rule = [\n",
    "        ':- gnode1(X), #count {Y: vmap(X,Y)} != 1.',\n",
    "        ':- gnode2(Y), #count {X: vmap(X,Y)} != 1.',\n",
    "    ]\n",
    "    show_rule = ['#show.'] if show_nothing_rule else []\n",
    "    \n",
    "    for logic_atom, arity in logic_atom_types:\n",
    "        \n",
    "        for qid in [1,2]:\n",
    "            t = ['_' for _ in range(arity)]\n",
    "            for pos in range(arity):\n",
    "                t[pos] = 'X'\n",
    "                body = ','.join(t)\n",
    "                gnode_rules.append(f'gnode{qid}(X) :- {logic_atom}{qid}({body}).')\n",
    "                t[pos] = '_'\n",
    "        \n",
    "        tx, ty = [f'X{i+1}' for i in range(arity)], [f'Y{i+1}' for i in range(arity)]\n",
    "        l_vmaps = ', '.join([f'vmap({ti_x},{ti_y})' for ti_x, ti_y in zip(tx,ty)])\n",
    "        tx_j, ty_j = ','.join(tx), ','.join(ty)\n",
    "        if arity > 0:\n",
    "            vmap_rules.append(f':- {l_vmaps}, {logic_atom}1({tx_j}), not {logic_atom}2({ty_j}).')\n",
    "            vmap_rules.append(f':- {l_vmaps}, not {logic_atom}1({tx_j}), {logic_atom}2({ty_j}).')\n",
    "        elif arity == 0:\n",
    "            vmap_rules.append(f':- {logic_atom}1, not {logic_atom}2.')\n",
    "            vmap_rules.append(f':- not {logic_atom}1, {logic_atom}2.')\n",
    "        \n",
    "\n",
    "        \n",
    "    return gnode_rules + vmap_rules + many_to_one_cond_rule + show_rule"
   ]
  },
  {
   "cell_type": "code",
   "execution_count": 19,
   "metadata": {},
   "outputs": [
    {
     "data": {
      "text/html": [
       "\n",
       "        <style>\n",
       "        .highlight .hll { background-color: #ffffcc }\n",
       ".highlight  { background: #f8f8f8; }\n",
       ".highlight .c { color: #408080; font-style: italic } /* Comment */\n",
       ".highlight .err { border: 1px solid #FF0000 } /* Error */\n",
       ".highlight .k { color: #008000; font-weight: bold } /* Keyword */\n",
       ".highlight .o { color: #666666 } /* Operator */\n",
       ".highlight .ch { color: #408080; font-style: italic } /* Comment.Hashbang */\n",
       ".highlight .cm { color: #408080; font-style: italic } /* Comment.Multiline */\n",
       ".highlight .cp { color: #BC7A00 } /* Comment.Preproc */\n",
       ".highlight .cpf { color: #408080; font-style: italic } /* Comment.PreprocFile */\n",
       ".highlight .c1 { color: #408080; font-style: italic } /* Comment.Single */\n",
       ".highlight .cs { color: #408080; font-style: italic } /* Comment.Special */\n",
       ".highlight .gd { color: #A00000 } /* Generic.Deleted */\n",
       ".highlight .ge { font-style: italic } /* Generic.Emph */\n",
       ".highlight .gr { color: #FF0000 } /* Generic.Error */\n",
       ".highlight .gh { color: #000080; font-weight: bold } /* Generic.Heading */\n",
       ".highlight .gi { color: #00A000 } /* Generic.Inserted */\n",
       ".highlight .go { color: #888888 } /* Generic.Output */\n",
       ".highlight .gp { color: #000080; font-weight: bold } /* Generic.Prompt */\n",
       ".highlight .gs { font-weight: bold } /* Generic.Strong */\n",
       ".highlight .gu { color: #800080; font-weight: bold } /* Generic.Subheading */\n",
       ".highlight .gt { color: #0044DD } /* Generic.Traceback */\n",
       ".highlight .kc { color: #008000; font-weight: bold } /* Keyword.Constant */\n",
       ".highlight .kd { color: #008000; font-weight: bold } /* Keyword.Declaration */\n",
       ".highlight .kn { color: #008000; font-weight: bold } /* Keyword.Namespace */\n",
       ".highlight .kp { color: #008000 } /* Keyword.Pseudo */\n",
       ".highlight .kr { color: #008000; font-weight: bold } /* Keyword.Reserved */\n",
       ".highlight .kt { color: #B00040 } /* Keyword.Type */\n",
       ".highlight .m { color: #666666 } /* Literal.Number */\n",
       ".highlight .s { color: #BA2121 } /* Literal.String */\n",
       ".highlight .na { color: #7D9029 } /* Name.Attribute */\n",
       ".highlight .nb { color: #008000 } /* Name.Builtin */\n",
       ".highlight .nc { color: #0000FF; font-weight: bold } /* Name.Class */\n",
       ".highlight .no { color: #880000 } /* Name.Constant */\n",
       ".highlight .nd { color: #AA22FF } /* Name.Decorator */\n",
       ".highlight .ni { color: #999999; font-weight: bold } /* Name.Entity */\n",
       ".highlight .ne { color: #D2413A; font-weight: bold } /* Name.Exception */\n",
       ".highlight .nf { color: #0000FF } /* Name.Function */\n",
       ".highlight .nl { color: #A0A000 } /* Name.Label */\n",
       ".highlight .nn { color: #0000FF; font-weight: bold } /* Name.Namespace */\n",
       ".highlight .nt { color: #008000; font-weight: bold } /* Name.Tag */\n",
       ".highlight .nv { color: #19177C } /* Name.Variable */\n",
       ".highlight .ow { color: #AA22FF; font-weight: bold } /* Operator.Word */\n",
       ".highlight .w { color: #bbbbbb } /* Text.Whitespace */\n",
       ".highlight .mb { color: #666666 } /* Literal.Number.Bin */\n",
       ".highlight .mf { color: #666666 } /* Literal.Number.Float */\n",
       ".highlight .mh { color: #666666 } /* Literal.Number.Hex */\n",
       ".highlight .mi { color: #666666 } /* Literal.Number.Integer */\n",
       ".highlight .mo { color: #666666 } /* Literal.Number.Oct */\n",
       ".highlight .sa { color: #BA2121 } /* Literal.String.Affix */\n",
       ".highlight .sb { color: #BA2121 } /* Literal.String.Backtick */\n",
       ".highlight .sc { color: #BA2121 } /* Literal.String.Char */\n",
       ".highlight .dl { color: #BA2121 } /* Literal.String.Delimiter */\n",
       ".highlight .sd { color: #BA2121; font-style: italic } /* Literal.String.Doc */\n",
       ".highlight .s2 { color: #BA2121 } /* Literal.String.Double */\n",
       ".highlight .se { color: #BB6622; font-weight: bold } /* Literal.String.Escape */\n",
       ".highlight .sh { color: #BA2121 } /* Literal.String.Heredoc */\n",
       ".highlight .si { color: #BB6688; font-weight: bold } /* Literal.String.Interpol */\n",
       ".highlight .sx { color: #008000 } /* Literal.String.Other */\n",
       ".highlight .sr { color: #BB6688 } /* Literal.String.Regex */\n",
       ".highlight .s1 { color: #BA2121 } /* Literal.String.Single */\n",
       ".highlight .ss { color: #19177C } /* Literal.String.Symbol */\n",
       ".highlight .bp { color: #008000 } /* Name.Builtin.Pseudo */\n",
       ".highlight .fm { color: #0000FF } /* Name.Function.Magic */\n",
       ".highlight .vc { color: #19177C } /* Name.Variable.Class */\n",
       ".highlight .vg { color: #19177C } /* Name.Variable.Global */\n",
       ".highlight .vi { color: #19177C } /* Name.Variable.Instance */\n",
       ".highlight .vm { color: #19177C } /* Name.Variable.Magic */\n",
       ".highlight .il { color: #666666 } /* Literal.Number.Integer.Long */\n",
       "        </style>\n",
       "        "
      ],
      "text/plain": [
       "<IPython.core.display.HTML object>"
      ]
     },
     "metadata": {},
     "output_type": "display_data"
    },
    {
     "data": {
      "text/html": [
       "<div class=\"highlight\"><pre><span></span><span class=\"lineno\"> 1 </span><span class=\"nf\">gnode1</span><span class=\"p\">(</span><span class=\"nv\">X</span><span class=\"p\">)</span> <span class=\"p\">:-</span> <span class=\"nf\">e1</span><span class=\"p\">(</span><span class=\"nv\">X</span><span class=\"p\">,</span><span class=\"k\">_</span><span class=\"p\">).</span>\n",
       "<span class=\"lineno\"> 2 </span><span class=\"nf\">gnode1</span><span class=\"p\">(</span><span class=\"nv\">X</span><span class=\"p\">)</span> <span class=\"p\">:-</span> <span class=\"nf\">e1</span><span class=\"p\">(</span><span class=\"k\">_</span><span class=\"p\">,</span><span class=\"nv\">X</span><span class=\"p\">).</span>\n",
       "<span class=\"lineno\"> 3 </span><span class=\"nf\">gnode2</span><span class=\"p\">(</span><span class=\"nv\">X</span><span class=\"p\">)</span> <span class=\"p\">:-</span> <span class=\"nf\">e2</span><span class=\"p\">(</span><span class=\"nv\">X</span><span class=\"p\">,</span><span class=\"k\">_</span><span class=\"p\">).</span>\n",
       "<span class=\"lineno\"> 4 </span><span class=\"nf\">gnode2</span><span class=\"p\">(</span><span class=\"nv\">X</span><span class=\"p\">)</span> <span class=\"p\">:-</span> <span class=\"nf\">e2</span><span class=\"p\">(</span><span class=\"k\">_</span><span class=\"p\">,</span><span class=\"nv\">X</span><span class=\"p\">).</span>\n",
       "<span class=\"lineno\"> 5 </span><span class=\"nf\">gnode1</span><span class=\"p\">(</span><span class=\"nv\">X</span><span class=\"p\">)</span> <span class=\"p\">:-</span> <span class=\"nf\">thop1</span><span class=\"p\">(</span><span class=\"nv\">X</span><span class=\"p\">,</span><span class=\"k\">_</span><span class=\"p\">).</span>\n",
       "<span class=\"lineno\"> 6 </span><span class=\"nf\">gnode1</span><span class=\"p\">(</span><span class=\"nv\">X</span><span class=\"p\">)</span> <span class=\"p\">:-</span> <span class=\"nf\">thop1</span><span class=\"p\">(</span><span class=\"k\">_</span><span class=\"p\">,</span><span class=\"nv\">X</span><span class=\"p\">).</span>\n",
       "<span class=\"lineno\"> 7 </span><span class=\"nf\">gnode2</span><span class=\"p\">(</span><span class=\"nv\">X</span><span class=\"p\">)</span> <span class=\"p\">:-</span> <span class=\"nf\">thop2</span><span class=\"p\">(</span><span class=\"nv\">X</span><span class=\"p\">,</span><span class=\"k\">_</span><span class=\"p\">).</span>\n",
       "<span class=\"lineno\"> 8 </span><span class=\"nf\">gnode2</span><span class=\"p\">(</span><span class=\"nv\">X</span><span class=\"p\">)</span> <span class=\"p\">:-</span> <span class=\"nf\">thop2</span><span class=\"p\">(</span><span class=\"k\">_</span><span class=\"p\">,</span><span class=\"nv\">X</span><span class=\"p\">).</span>\n",
       "<span class=\"lineno\"> 9 </span><span class=\"nf\">vmap</span><span class=\"p\">(</span><span class=\"nv\">X</span><span class=\"p\">,</span><span class=\"nv\">Y</span><span class=\"p\">)</span> <span class=\"p\">;</span> <span class=\"o\">not</span> <span class=\"nf\">vmap</span><span class=\"p\">(</span><span class=\"nv\">X</span><span class=\"p\">,</span><span class=\"nv\">Y</span><span class=\"p\">)</span> <span class=\"p\">:-</span> <span class=\"nf\">gnode1</span><span class=\"p\">(</span><span class=\"nv\">X</span><span class=\"p\">),</span> <span class=\"nf\">gnode2</span><span class=\"p\">(</span><span class=\"nv\">Y</span><span class=\"p\">).</span>\n",
       "<span class=\"lineno\">10 </span><span class=\"p\">:-</span> <span class=\"nf\">vmap</span><span class=\"p\">(</span><span class=\"nv\">X1</span><span class=\"p\">,</span><span class=\"nv\">Y1</span><span class=\"p\">),</span> <span class=\"nf\">vmap</span><span class=\"p\">(</span><span class=\"nv\">X2</span><span class=\"p\">,</span><span class=\"nv\">Y2</span><span class=\"p\">),</span> <span class=\"nf\">e1</span><span class=\"p\">(</span><span class=\"nv\">X1</span><span class=\"p\">,</span><span class=\"nv\">X2</span><span class=\"p\">),</span> <span class=\"o\">not</span> <span class=\"nf\">e2</span><span class=\"p\">(</span><span class=\"nv\">Y1</span><span class=\"p\">,</span><span class=\"nv\">Y2</span><span class=\"p\">).</span>\n",
       "<span class=\"lineno\">11 </span><span class=\"p\">:-</span> <span class=\"nf\">vmap</span><span class=\"p\">(</span><span class=\"nv\">X1</span><span class=\"p\">,</span><span class=\"nv\">Y1</span><span class=\"p\">),</span> <span class=\"nf\">vmap</span><span class=\"p\">(</span><span class=\"nv\">X2</span><span class=\"p\">,</span><span class=\"nv\">Y2</span><span class=\"p\">),</span> <span class=\"o\">not</span> <span class=\"nf\">e1</span><span class=\"p\">(</span><span class=\"nv\">X1</span><span class=\"p\">,</span><span class=\"nv\">X2</span><span class=\"p\">),</span> <span class=\"nf\">e2</span><span class=\"p\">(</span><span class=\"nv\">Y1</span><span class=\"p\">,</span><span class=\"nv\">Y2</span><span class=\"p\">).</span>\n",
       "<span class=\"lineno\">12 </span><span class=\"p\">:-</span> <span class=\"nf\">vmap</span><span class=\"p\">(</span><span class=\"nv\">X1</span><span class=\"p\">,</span><span class=\"nv\">Y1</span><span class=\"p\">),</span> <span class=\"nf\">vmap</span><span class=\"p\">(</span><span class=\"nv\">X2</span><span class=\"p\">,</span><span class=\"nv\">Y2</span><span class=\"p\">),</span> <span class=\"nf\">thop1</span><span class=\"p\">(</span><span class=\"nv\">X1</span><span class=\"p\">,</span><span class=\"nv\">X2</span><span class=\"p\">),</span> <span class=\"o\">not</span> <span class=\"nf\">thop2</span><span class=\"p\">(</span><span class=\"nv\">Y1</span><span class=\"p\">,</span><span class=\"nv\">Y2</span><span class=\"p\">).</span>\n",
       "<span class=\"lineno\">13 </span><span class=\"p\">:-</span> <span class=\"nf\">vmap</span><span class=\"p\">(</span><span class=\"nv\">X1</span><span class=\"p\">,</span><span class=\"nv\">Y1</span><span class=\"p\">),</span> <span class=\"nf\">vmap</span><span class=\"p\">(</span><span class=\"nv\">X2</span><span class=\"p\">,</span><span class=\"nv\">Y2</span><span class=\"p\">),</span> <span class=\"o\">not</span> <span class=\"nf\">thop1</span><span class=\"p\">(</span><span class=\"nv\">X1</span><span class=\"p\">,</span><span class=\"nv\">X2</span><span class=\"p\">),</span> <span class=\"nf\">thop2</span><span class=\"p\">(</span><span class=\"nv\">Y1</span><span class=\"p\">,</span><span class=\"nv\">Y2</span><span class=\"p\">).</span>\n",
       "<span class=\"lineno\">14 </span><span class=\"p\">:-</span> <span class=\"nf\">gnode1</span><span class=\"p\">(</span><span class=\"nv\">X</span><span class=\"p\">),</span> <span class=\"s s-Atom\">#count</span> <span class=\"p\">{</span><span class=\"nv\">Y</span><span class=\"s s-Atom\">:</span> <span class=\"nf\">vmap</span><span class=\"p\">(</span><span class=\"nv\">X</span><span class=\"p\">,</span><span class=\"nv\">Y</span><span class=\"p\">)}</span> <span class=\"p\">!</span><span class=\"o\">=</span> <span class=\"mf\">1.</span>\n",
       "<span class=\"lineno\">15 </span><span class=\"p\">:-</span> <span class=\"nf\">gnode2</span><span class=\"p\">(</span><span class=\"nv\">Y</span><span class=\"p\">),</span> <span class=\"s s-Atom\">#count</span> <span class=\"p\">{</span><span class=\"nv\">X</span><span class=\"s s-Atom\">:</span> <span class=\"nf\">vmap</span><span class=\"p\">(</span><span class=\"nv\">X</span><span class=\"p\">,</span><span class=\"nv\">Y</span><span class=\"p\">)}</span> <span class=\"p\">!</span><span class=\"o\">=</span> <span class=\"mf\">1.</span>\n",
       "<span class=\"lineno\">16 </span><span class=\"c1\">#show.</span>\n",
       "</pre></div>\n"
      ],
      "text/plain": [
       "'gnode1(X) :- e1(X,_).\\ngnode1(X) :- e1(_,X).\\ngnode2(X) :- e2(X,_).\\ngnode2(X) :- e2(_,X).\\ngnode1(X) :- thop1(X,_).\\ngnode1(X) :- thop1(_,X).\\ngnode2(X) :- thop2(X,_).\\ngnode2(X) :- thop2(_,X).\\nvmap(X,Y) ; not vmap(X,Y) :- gnode1(X), gnode2(Y).\\n:- vmap(X1,Y1), vmap(X2,Y2), e1(X1,X2), not e2(Y1,Y2).\\n:- vmap(X1,Y1), vmap(X2,Y2), not e1(X1,X2), e2(Y1,Y2).\\n:- vmap(X1,Y1), vmap(X2,Y2), thop1(X1,X2), not thop2(Y1,Y2).\\n:- vmap(X1,Y1), vmap(X2,Y2), not thop1(X1,X2), thop2(Y1,Y2).\\n:- gnode1(X), #count {Y: vmap(X,Y)} != 1.\\n:- gnode2(Y), #count {X: vmap(X,Y)} != 1.\\n#show.'"
      ]
     },
     "execution_count": 19,
     "metadata": {},
     "output_type": "execute_result"
    }
   ],
   "source": [
    "qep_eq_check = create_isomorphism_equivalence_encoding(query_str)\n",
    "qep_eq_check = '\\n'.join(qep_eq_check)\n",
    "ASPRules(qep_eq_check)"
   ]
  },
  {
   "cell_type": "markdown",
   "metadata": {},
   "source": [
    "We can now use PWE to compute the disjoint groups efficiently using the above encoding:"
   ]
  },
  {
   "cell_type": "code",
   "execution_count": 20,
   "metadata": {},
   "outputs": [],
   "source": [
    "sets = get_equivalent_sets(query_analysis['pw_objs'], lambda pw1, pw2: are_equivalent_patterns(pw1,pw2,qep_eq_check))"
   ]
  },
  {
   "cell_type": "code",
   "execution_count": 21,
   "metadata": {
    "scrolled": true
   },
   "outputs": [
    {
     "name": "stdout",
     "output_type": "stream",
     "text": [
      "{1}\n",
      "{2}\n",
      "{3}\n",
      "{4}\n",
      "{5}\n"
     ]
    }
   ],
   "source": [
    "for s in sets:\n",
    "    print({pw.pw_id for pw in s})"
   ]
  },
  {
   "cell_type": "code",
   "execution_count": 22,
   "metadata": {},
   "outputs": [
    {
     "data": {
      "text/plain": [
       "5"
      ]
     },
     "execution_count": 22,
     "metadata": {},
     "output_type": "execute_result"
    }
   ],
   "source": [
    "len(sets)"
   ]
  },
  {
   "cell_type": "markdown",
   "metadata": {},
   "source": [
    "--"
   ]
  },
  {
   "cell_type": "code",
   "execution_count": 23,
   "metadata": {
    "scrolled": true
   },
   "outputs": [],
   "source": [
    "for s in sets:\n",
    "    if len(s) > 1:\n",
    "        print('-'*90)\n",
    "        for pw in s:\n",
    "            i = pw.pw_id\n",
    "            print('-'*60)\n",
    "            print(\"\\nPW:\", i)\n",
    "            pw_rel_dfs, pw_objs = pw_slicer(query_analysis['pw_rel_dfs'], query_analysis['pw_objs'], [i])\n",
    "            pw_obj = pw_objs[0]\n",
    "\n",
    "            print(\"Canonical DB:\")\n",
    "            pw_edge_facts = get_edge_facts(pw_obj)\n",
    "            pw_head_facts = get_query_head_facts(pw_obj)\n",
    "            print(\" \".join(pw_edge_facts+pw_head_facts))\n",
    "            g = get_pattern_graph3(pw_rel_dfs, pw_obj, silent=True, q_head='hyperedge')\n",
    "            display(draw(g))\n",
    "            print('-'*60)\n",
    "        print('-'*90)"
   ]
  },
  {
   "cell_type": "markdown",
   "metadata": {},
   "source": [
    "### Building a hierarchy of _semi_-specialized queries\n",
    "\n",
    "In the specialized queries above, we explicitly encode the equalities and in/dis-equalities between the variables in the query. Say we only encode the equalities but not the in/dis-equalities. This gives us a set of _semi_-specialized queries which can be arranged in a hierarchy based on query containment relations. We build these queries and their hierarchy below."
   ]
  },
  {
   "cell_type": "markdown",
   "metadata": {},
   "source": [
    "Below is an ASP encoding to check for query containment between two queries Q1 and Q2 (is Q2 contained in Q1?) based on their canonical databases:"
   ]
  },
  {
   "cell_type": "code",
   "execution_count": 24,
   "metadata": {},
   "outputs": [],
   "source": [
    "def create_homomorphism_containment_encoding(asp_rule, show_nothing_rule=True):\n",
    "    listener = parse_dlv_rules(asp_rule, print_parse_tree=False)\n",
    "    \n",
    "    logic_atom_types = set([])\n",
    "    \n",
    "    assert len(listener.rules) == 1\n",
    "    \n",
    "    for rule in listener.rules:\n",
    "        head_atoms, tail_atoms = rule[0], rule[1]\n",
    "        for ruleOcc in head_atoms+tail_atoms:\n",
    "            logic_atom_types.add((ruleOcc.rel_name, ruleOcc.rel_arity))\n",
    "    \n",
    "    gnode_rules = []\n",
    "    vmap_rules = ['vmap(X,Y) ; not vmap(X,Y) :- gnode1(X), gnode2(Y).']\n",
    "    vmap_q1_q2_rules = []\n",
    "    vmap_q2_q1_rules = []\n",
    "    many_to_one_cond_rule = [':- gnode1(X), #count {Y: vmap(X,Y)} != 1.']\n",
    "    show_rule = ['#show.'] if show_nothing_rule else []\n",
    "    \n",
    "    for logic_atom, arity in logic_atom_types:\n",
    "        \n",
    "        for qid in [1,2]:\n",
    "            t = ['_' for _ in range(arity)]\n",
    "            for pos in range(arity):\n",
    "                t[pos] = 'X'\n",
    "                body = ','.join(t)\n",
    "                gnode_rules.append(f'gnode{qid}(X) :- {logic_atom}{qid}({body}).')\n",
    "                t[pos] = '_'\n",
    "        \n",
    "        tx, ty = [f'X{i+1}' for i in range(arity)], [f'Y{i+1}' for i in range(arity)]\n",
    "        l_vmaps = ', '.join([f'vmap({ti_x},{ti_y})' for ti_x, ti_y in zip(tx,ty)])\n",
    "        tx_j, ty_j = ','.join(tx), ','.join(ty)\n",
    "        l_gnode2s = ', '.join([f'gnode2({ti_y})' for ti_y in ty])\n",
    "        \n",
    "        if arity > 0:\n",
    "            vmap_q1_q2_rules.append(f':- {l_vmaps}, {logic_atom}1({tx_j}), not {logic_atom}2({ty_j}).')\n",
    "            #vmap_q2_q1_rules.append(f'{logic_atom}2_mapped({ty_j}) :- {l_vmaps}, {logic_atom}1({tx_j}), {logic_atom}2({ty_j}).')\n",
    "            #vmap_q2_q1_rules.append(f':- {l_gnode2s}, {logic_atom}2({ty_j}), not {logic_atom}2_mapped({ty_j}).')\n",
    "        elif arity == 0:\n",
    "            vmap_q1_q2_rules.append(f':- {logic_atom}1, not {logic_atom}2.')\n",
    "            #vmap_q2_q1_rules.append(f'{logic_atom}2_mapped :- {logic_atom}1, {logic_atom}2.')\n",
    "            #vmap_q2_q1_rules.append(f':- {logic_atom}2, not {logic_atom}2_mapped.')\n",
    "\n",
    "        \n",
    "    return gnode_rules + vmap_rules + vmap_q1_q2_rules + vmap_q2_q1_rules + many_to_one_cond_rule + show_rule"
   ]
  },
  {
   "cell_type": "code",
   "execution_count": 25,
   "metadata": {},
   "outputs": [
    {
     "data": {
      "text/html": [
       "\n",
       "        <style>\n",
       "        .highlight .hll { background-color: #ffffcc }\n",
       ".highlight  { background: #f8f8f8; }\n",
       ".highlight .c { color: #408080; font-style: italic } /* Comment */\n",
       ".highlight .err { border: 1px solid #FF0000 } /* Error */\n",
       ".highlight .k { color: #008000; font-weight: bold } /* Keyword */\n",
       ".highlight .o { color: #666666 } /* Operator */\n",
       ".highlight .ch { color: #408080; font-style: italic } /* Comment.Hashbang */\n",
       ".highlight .cm { color: #408080; font-style: italic } /* Comment.Multiline */\n",
       ".highlight .cp { color: #BC7A00 } /* Comment.Preproc */\n",
       ".highlight .cpf { color: #408080; font-style: italic } /* Comment.PreprocFile */\n",
       ".highlight .c1 { color: #408080; font-style: italic } /* Comment.Single */\n",
       ".highlight .cs { color: #408080; font-style: italic } /* Comment.Special */\n",
       ".highlight .gd { color: #A00000 } /* Generic.Deleted */\n",
       ".highlight .ge { font-style: italic } /* Generic.Emph */\n",
       ".highlight .gr { color: #FF0000 } /* Generic.Error */\n",
       ".highlight .gh { color: #000080; font-weight: bold } /* Generic.Heading */\n",
       ".highlight .gi { color: #00A000 } /* Generic.Inserted */\n",
       ".highlight .go { color: #888888 } /* Generic.Output */\n",
       ".highlight .gp { color: #000080; font-weight: bold } /* Generic.Prompt */\n",
       ".highlight .gs { font-weight: bold } /* Generic.Strong */\n",
       ".highlight .gu { color: #800080; font-weight: bold } /* Generic.Subheading */\n",
       ".highlight .gt { color: #0044DD } /* Generic.Traceback */\n",
       ".highlight .kc { color: #008000; font-weight: bold } /* Keyword.Constant */\n",
       ".highlight .kd { color: #008000; font-weight: bold } /* Keyword.Declaration */\n",
       ".highlight .kn { color: #008000; font-weight: bold } /* Keyword.Namespace */\n",
       ".highlight .kp { color: #008000 } /* Keyword.Pseudo */\n",
       ".highlight .kr { color: #008000; font-weight: bold } /* Keyword.Reserved */\n",
       ".highlight .kt { color: #B00040 } /* Keyword.Type */\n",
       ".highlight .m { color: #666666 } /* Literal.Number */\n",
       ".highlight .s { color: #BA2121 } /* Literal.String */\n",
       ".highlight .na { color: #7D9029 } /* Name.Attribute */\n",
       ".highlight .nb { color: #008000 } /* Name.Builtin */\n",
       ".highlight .nc { color: #0000FF; font-weight: bold } /* Name.Class */\n",
       ".highlight .no { color: #880000 } /* Name.Constant */\n",
       ".highlight .nd { color: #AA22FF } /* Name.Decorator */\n",
       ".highlight .ni { color: #999999; font-weight: bold } /* Name.Entity */\n",
       ".highlight .ne { color: #D2413A; font-weight: bold } /* Name.Exception */\n",
       ".highlight .nf { color: #0000FF } /* Name.Function */\n",
       ".highlight .nl { color: #A0A000 } /* Name.Label */\n",
       ".highlight .nn { color: #0000FF; font-weight: bold } /* Name.Namespace */\n",
       ".highlight .nt { color: #008000; font-weight: bold } /* Name.Tag */\n",
       ".highlight .nv { color: #19177C } /* Name.Variable */\n",
       ".highlight .ow { color: #AA22FF; font-weight: bold } /* Operator.Word */\n",
       ".highlight .w { color: #bbbbbb } /* Text.Whitespace */\n",
       ".highlight .mb { color: #666666 } /* Literal.Number.Bin */\n",
       ".highlight .mf { color: #666666 } /* Literal.Number.Float */\n",
       ".highlight .mh { color: #666666 } /* Literal.Number.Hex */\n",
       ".highlight .mi { color: #666666 } /* Literal.Number.Integer */\n",
       ".highlight .mo { color: #666666 } /* Literal.Number.Oct */\n",
       ".highlight .sa { color: #BA2121 } /* Literal.String.Affix */\n",
       ".highlight .sb { color: #BA2121 } /* Literal.String.Backtick */\n",
       ".highlight .sc { color: #BA2121 } /* Literal.String.Char */\n",
       ".highlight .dl { color: #BA2121 } /* Literal.String.Delimiter */\n",
       ".highlight .sd { color: #BA2121; font-style: italic } /* Literal.String.Doc */\n",
       ".highlight .s2 { color: #BA2121 } /* Literal.String.Double */\n",
       ".highlight .se { color: #BB6622; font-weight: bold } /* Literal.String.Escape */\n",
       ".highlight .sh { color: #BA2121 } /* Literal.String.Heredoc */\n",
       ".highlight .si { color: #BB6688; font-weight: bold } /* Literal.String.Interpol */\n",
       ".highlight .sx { color: #008000 } /* Literal.String.Other */\n",
       ".highlight .sr { color: #BB6688 } /* Literal.String.Regex */\n",
       ".highlight .s1 { color: #BA2121 } /* Literal.String.Single */\n",
       ".highlight .ss { color: #19177C } /* Literal.String.Symbol */\n",
       ".highlight .bp { color: #008000 } /* Name.Builtin.Pseudo */\n",
       ".highlight .fm { color: #0000FF } /* Name.Function.Magic */\n",
       ".highlight .vc { color: #19177C } /* Name.Variable.Class */\n",
       ".highlight .vg { color: #19177C } /* Name.Variable.Global */\n",
       ".highlight .vi { color: #19177C } /* Name.Variable.Instance */\n",
       ".highlight .vm { color: #19177C } /* Name.Variable.Magic */\n",
       ".highlight .il { color: #666666 } /* Literal.Number.Integer.Long */\n",
       "        </style>\n",
       "        "
      ],
      "text/plain": [
       "<IPython.core.display.HTML object>"
      ]
     },
     "metadata": {},
     "output_type": "display_data"
    },
    {
     "data": {
      "text/html": [
       "<div class=\"highlight\"><pre><span></span><span class=\"lineno\"> 1 </span><span class=\"nf\">gnode1</span><span class=\"p\">(</span><span class=\"nv\">X</span><span class=\"p\">)</span> <span class=\"p\">:-</span> <span class=\"nf\">e1</span><span class=\"p\">(</span><span class=\"nv\">X</span><span class=\"p\">,</span><span class=\"k\">_</span><span class=\"p\">).</span>\n",
       "<span class=\"lineno\"> 2 </span><span class=\"nf\">gnode1</span><span class=\"p\">(</span><span class=\"nv\">X</span><span class=\"p\">)</span> <span class=\"p\">:-</span> <span class=\"nf\">e1</span><span class=\"p\">(</span><span class=\"k\">_</span><span class=\"p\">,</span><span class=\"nv\">X</span><span class=\"p\">).</span>\n",
       "<span class=\"lineno\"> 3 </span><span class=\"nf\">gnode2</span><span class=\"p\">(</span><span class=\"nv\">X</span><span class=\"p\">)</span> <span class=\"p\">:-</span> <span class=\"nf\">e2</span><span class=\"p\">(</span><span class=\"nv\">X</span><span class=\"p\">,</span><span class=\"k\">_</span><span class=\"p\">).</span>\n",
       "<span class=\"lineno\"> 4 </span><span class=\"nf\">gnode2</span><span class=\"p\">(</span><span class=\"nv\">X</span><span class=\"p\">)</span> <span class=\"p\">:-</span> <span class=\"nf\">e2</span><span class=\"p\">(</span><span class=\"k\">_</span><span class=\"p\">,</span><span class=\"nv\">X</span><span class=\"p\">).</span>\n",
       "<span class=\"lineno\"> 5 </span><span class=\"nf\">gnode1</span><span class=\"p\">(</span><span class=\"nv\">X</span><span class=\"p\">)</span> <span class=\"p\">:-</span> <span class=\"nf\">thop1</span><span class=\"p\">(</span><span class=\"nv\">X</span><span class=\"p\">,</span><span class=\"k\">_</span><span class=\"p\">).</span>\n",
       "<span class=\"lineno\"> 6 </span><span class=\"nf\">gnode1</span><span class=\"p\">(</span><span class=\"nv\">X</span><span class=\"p\">)</span> <span class=\"p\">:-</span> <span class=\"nf\">thop1</span><span class=\"p\">(</span><span class=\"k\">_</span><span class=\"p\">,</span><span class=\"nv\">X</span><span class=\"p\">).</span>\n",
       "<span class=\"lineno\"> 7 </span><span class=\"nf\">gnode2</span><span class=\"p\">(</span><span class=\"nv\">X</span><span class=\"p\">)</span> <span class=\"p\">:-</span> <span class=\"nf\">thop2</span><span class=\"p\">(</span><span class=\"nv\">X</span><span class=\"p\">,</span><span class=\"k\">_</span><span class=\"p\">).</span>\n",
       "<span class=\"lineno\"> 8 </span><span class=\"nf\">gnode2</span><span class=\"p\">(</span><span class=\"nv\">X</span><span class=\"p\">)</span> <span class=\"p\">:-</span> <span class=\"nf\">thop2</span><span class=\"p\">(</span><span class=\"k\">_</span><span class=\"p\">,</span><span class=\"nv\">X</span><span class=\"p\">).</span>\n",
       "<span class=\"lineno\"> 9 </span><span class=\"nf\">vmap</span><span class=\"p\">(</span><span class=\"nv\">X</span><span class=\"p\">,</span><span class=\"nv\">Y</span><span class=\"p\">)</span> <span class=\"p\">;</span> <span class=\"o\">not</span> <span class=\"nf\">vmap</span><span class=\"p\">(</span><span class=\"nv\">X</span><span class=\"p\">,</span><span class=\"nv\">Y</span><span class=\"p\">)</span> <span class=\"p\">:-</span> <span class=\"nf\">gnode1</span><span class=\"p\">(</span><span class=\"nv\">X</span><span class=\"p\">),</span> <span class=\"nf\">gnode2</span><span class=\"p\">(</span><span class=\"nv\">Y</span><span class=\"p\">).</span>\n",
       "<span class=\"lineno\">10 </span><span class=\"p\">:-</span> <span class=\"nf\">vmap</span><span class=\"p\">(</span><span class=\"nv\">X1</span><span class=\"p\">,</span><span class=\"nv\">Y1</span><span class=\"p\">),</span> <span class=\"nf\">vmap</span><span class=\"p\">(</span><span class=\"nv\">X2</span><span class=\"p\">,</span><span class=\"nv\">Y2</span><span class=\"p\">),</span> <span class=\"nf\">e1</span><span class=\"p\">(</span><span class=\"nv\">X1</span><span class=\"p\">,</span><span class=\"nv\">X2</span><span class=\"p\">),</span> <span class=\"o\">not</span> <span class=\"nf\">e2</span><span class=\"p\">(</span><span class=\"nv\">Y1</span><span class=\"p\">,</span><span class=\"nv\">Y2</span><span class=\"p\">).</span>\n",
       "<span class=\"lineno\">11 </span><span class=\"p\">:-</span> <span class=\"nf\">vmap</span><span class=\"p\">(</span><span class=\"nv\">X1</span><span class=\"p\">,</span><span class=\"nv\">Y1</span><span class=\"p\">),</span> <span class=\"nf\">vmap</span><span class=\"p\">(</span><span class=\"nv\">X2</span><span class=\"p\">,</span><span class=\"nv\">Y2</span><span class=\"p\">),</span> <span class=\"nf\">thop1</span><span class=\"p\">(</span><span class=\"nv\">X1</span><span class=\"p\">,</span><span class=\"nv\">X2</span><span class=\"p\">),</span> <span class=\"o\">not</span> <span class=\"nf\">thop2</span><span class=\"p\">(</span><span class=\"nv\">Y1</span><span class=\"p\">,</span><span class=\"nv\">Y2</span><span class=\"p\">).</span>\n",
       "<span class=\"lineno\">12 </span><span class=\"p\">:-</span> <span class=\"nf\">gnode1</span><span class=\"p\">(</span><span class=\"nv\">X</span><span class=\"p\">),</span> <span class=\"s s-Atom\">#count</span> <span class=\"p\">{</span><span class=\"nv\">Y</span><span class=\"s s-Atom\">:</span> <span class=\"nf\">vmap</span><span class=\"p\">(</span><span class=\"nv\">X</span><span class=\"p\">,</span><span class=\"nv\">Y</span><span class=\"p\">)}</span> <span class=\"p\">!</span><span class=\"o\">=</span> <span class=\"mf\">1.</span>\n",
       "</pre></div>\n"
      ],
      "text/plain": [
       "'gnode1(X) :- e1(X,_).\\ngnode1(X) :- e1(_,X).\\ngnode2(X) :- e2(X,_).\\ngnode2(X) :- e2(_,X).\\ngnode1(X) :- thop1(X,_).\\ngnode1(X) :- thop1(_,X).\\ngnode2(X) :- thop2(X,_).\\ngnode2(X) :- thop2(_,X).\\nvmap(X,Y) ; not vmap(X,Y) :- gnode1(X), gnode2(Y).\\n:- vmap(X1,Y1), vmap(X2,Y2), e1(X1,X2), not e2(Y1,Y2).\\n:- vmap(X1,Y1), vmap(X2,Y2), thop1(X1,X2), not thop2(Y1,Y2).\\n:- gnode1(X), #count {Y: vmap(X,Y)} != 1.'"
      ]
     },
     "execution_count": 25,
     "metadata": {},
     "output_type": "execute_result"
    }
   ],
   "source": [
    "qep_containment_check = create_homomorphism_containment_encoding(query_str, show_nothing_rule=False)\n",
    "qep_containment_check = '\\n'.join(qep_containment_check)\n",
    "ASPRules(qep_containment_check)"
   ]
  },
  {
   "cell_type": "code",
   "execution_count": 26,
   "metadata": {},
   "outputs": [],
   "source": [
    "# Function to test whether query Q1 (represented by pw1) contains query Q2 (represented by pw2)\n",
    "# using the above encoding\n",
    "def q1_contains_q2(pw1, pw2):\n",
    "    return are_equivalent_patterns(pw1, pw2, qep_containment_check)"
   ]
  },
  {
   "cell_type": "code",
   "execution_count": 27,
   "metadata": {},
   "outputs": [],
   "source": [
    "def get_canonical_db(pw_rel_dfs, include_head=True):\n",
    "    canonical_db = {}\n",
    "    for _, row in pw_rel_dfs['newArc_4'].iterrows():\n",
    "        rule = (row['ATOM'], int(row['OCC']))\n",
    "        pos = int(row['POS'])\n",
    "        var = row['VAR']\n",
    "        if rule not in canonical_db:\n",
    "            canonical_db[rule] = {}\n",
    "        canonical_db[rule][pos] = var\n",
    "    \n",
    "    if include_head:\n",
    "        if 'ruleH_1' in pw_rel_dfs:\n",
    "            for _, row in pw_rel_dfs['ruleH_1'].iterrows():\n",
    "                rule = row['HEAD']\n",
    "                if rule not in canonical_db:\n",
    "                    canonical_db[rule] = {}\n",
    "        if 'newHArc_3' in pw_rel_dfs:\n",
    "            for _, row in pw_rel_dfs['newHArc_3'].iterrows():\n",
    "                rule = row['HEAD']\n",
    "                pos = int(row['POS'])\n",
    "                var = row['VAR']\n",
    "                if rule not in canonical_db:\n",
    "                    canonical_db[rule] = {}\n",
    "                canonical_db[rule][pos] = var\n",
    "\n",
    "    canonical_db_fact_strs = []\n",
    "    for rule, rule_desc in canonical_db.items():\n",
    "        if isinstance(rule, tuple):\n",
    "            rule = rule[0]\n",
    "        r_body = [rule_desc[k] for k in sorted(rule_desc.keys())]\n",
    "        if len(r_body) > 0:\n",
    "            r_body_j = ', '.join(r_body)\n",
    "            canonical_db_fact_strs.append(f'{rule}({r_body_j}).')\n",
    "        else:\n",
    "            canonical_db_fact_strs.append(f'{rule}.')\n",
    "        \n",
    "    return canonical_db_fact_strs"
   ]
  },
  {
   "cell_type": "code",
   "execution_count": null,
   "metadata": {},
   "outputs": [],
   "source": []
  },
  {
   "cell_type": "code",
   "execution_count": 28,
   "metadata": {},
   "outputs": [],
   "source": [
    "def canonical_db_containment_check(pw1_rel_dfs, pw2_rel_dfs):\n",
    "    \"\"\"\n",
    "    Q1 (pw1) contains Q2 (pw2)\n",
    "    \"\"\"\n",
    "    pw1_q_str = print_rewritten_query_string(pw1_rel_dfs, html=False, display_q=False, include_ineqls=False)\n",
    "    pw2_canonical_db = get_canonical_db(pw2_rel_dfs, include_head=True)\n",
    "    sat_req_rule = ''\n",
    "    show_rule = ''\n",
    "    assert len(pw1_rel_dfs['ruleH_1']) > 0\n",
    "    q1_head = pw1_rel_dfs['ruleH_1']['HEAD'][0]\n",
    "    \n",
    "    pw1_q_str = pw1_q_str.replace(q1_head, f'{q1_head}_q')\n",
    "    \n",
    "    if 'newHArc_3' in pw1_rel_dfs and len(pw1_rel_dfs['newHArc_3']) > 0:\n",
    "        q1_head_arity = len(pw1_rel_dfs['newHArc_3']['POS'])\n",
    "        h_vars = [f'A{i}' for i in range(q1_head_arity)]\n",
    "        h_vars_j = ','.join(h_vars)\n",
    "        sat_req_rule = f':- not {q1_head}_q({h_vars_j}), {q1_head}({h_vars_j}).'\n",
    "    else:\n",
    "        sat_req_rule = f':- not {q1_head}_q, {q1_head}.'\n",
    "    \n",
    "    #print(\"\\n\".join([pw1_q_str]+pw2_canonical_db+[sat_req_rule]))\n",
    "    asp_out, _ = run_clingo([pw1_q_str]+pw2_canonical_db+[sat_req_rule, show_rule], num_solutions=1)\n",
    "    #print(asp_out)\n",
    "    _,_,eq_check_pws = load_worlds(asp_out, silent=True)\n",
    "    \n",
    "    return len(eq_check_pws) >= 1\n",
    "\n",
    "def canonical_db_containment_check_wrapper(pw_rel_dfs, pw1_id, pw2_id):\n",
    "    \n",
    "    pw1_rel_dfs = pw_slicer(query_analysis['pw_rel_dfs'], None, [pw1_id])[0]\n",
    "    pw2_rel_dfs = pw_slicer(query_analysis['pw_rel_dfs'], None, [pw2_id])[0]\n",
    "    return canonical_db_containment_check(pw1_rel_dfs, pw2_rel_dfs)"
   ]
  },
  {
   "cell_type": "code",
   "execution_count": 29,
   "metadata": {},
   "outputs": [],
   "source": [
    "# Save figures for each PW (to build the hierarchy)\n",
    "\n",
    "query_fig_fnames = save_query_figs(query_analysis, folder='2hop_2_all_patterns_new')"
   ]
  },
  {
   "cell_type": "markdown",
   "metadata": {},
   "source": [
    "Next, we create the hierarchy of the queries:"
   ]
  },
  {
   "cell_type": "code",
   "execution_count": 30,
   "metadata": {},
   "outputs": [],
   "source": [
    "g = nx.DiGraph()\n",
    "for pw_id in range(1, len(query_analysis['pw_objs'])+1):\n",
    "    fname = query_fig_fnames[pw_id]\n",
    "    g.add_node(pw_id, image=os.path.abspath(fname),\n",
    "               shape='box', fixedsize='true', imagescale='true', size=2, label=\" \")"
   ]
  },
  {
   "cell_type": "markdown",
   "metadata": {},
   "source": [
    "Let's add edges based on query containment between all the queries:"
   ]
  },
  {
   "cell_type": "code",
   "execution_count": 31,
   "metadata": {},
   "outputs": [
    {
     "data": {
      "image/png": "[encoded data removed]",
      "text/plain": [
       "<IPython.core.display.Image object>"
      ]
     },
     "execution_count": 31,
     "metadata": {},
     "output_type": "execute_result"
    }
   ],
   "source": [
    "for pw_id1 in range(1, len(query_analysis['pw_objs'])+1):\n",
    "    for pw_id2 in range(1, len(query_analysis['pw_objs'])+1):\n",
    "        if pw_id1 == pw_id2:\n",
    "            continue\n",
    "        if canonical_db_containment_check_wrapper(query_analysis['pw_rel_dfs'], pw_id1, pw_id2):\n",
    "            g.add_edge(pw_id1, pw_id2, dir='back')\n",
    "\n",
    "draw(g)"
   ]
  },
  {
   "cell_type": "code",
   "execution_count": 32,
   "metadata": {
    "scrolled": true
   },
   "outputs": [],
   "source": [
    "keep_running = True\n",
    "\n",
    "while keep_running:\n",
    "    keep_running=False\n",
    "    for eu, ev in list(g.edges):\n",
    "        if (ev,eu) in list(g.edges):\n",
    "            print(f\"Merging {eu} and {ev}\")\n",
    "            g = nx.contracted_nodes(g, min(eu,ev), max(eu,ev), self_loops=False)\n",
    "            keep_running = True\n",
    "            break"
   ]
  },
  {
   "cell_type": "code",
   "execution_count": 33,
   "metadata": {},
   "outputs": [
    {
     "data": {
      "image/png": "[encoded data removed]",
      "text/plain": [
       "<IPython.core.display.Image object>"
      ]
     },
     "execution_count": 33,
     "metadata": {},
     "output_type": "execute_result"
    }
   ],
   "source": [
    "draw(g)"
   ]
  },
  {
   "cell_type": "code",
   "execution_count": 34,
   "metadata": {},
   "outputs": [
    {
     "data": {
      "image/png": "[encoded data removed]",
      "text/plain": [
       "<IPython.core.display.Image object>"
      ]
     },
     "execution_count": 34,
     "metadata": {},
     "output_type": "execute_result"
    }
   ],
   "source": [
    "g_ = nx.algorithms.dag.transitive_reduction(g)\n",
    "\n",
    "# Copy over the style properties (the nx.algorithms.dag.transitive_reduction loses these)\n",
    "for n in g.nodes:\n",
    "    for k,v in g.nodes[n].items():\n",
    "        g_.nodes[n][k] = v\n",
    "for e in g_.edges:\n",
    "    g_.edges[e]['dir'] = 'back'\n",
    "draw(g_)"
   ]
  },
  {
   "cell_type": "code",
   "execution_count": 35,
   "metadata": {},
   "outputs": [
    {
     "data": {
      "text/plain": [
       "'2hop_2_query_hierarchy_can_db_v2.pdf'"
      ]
     },
     "execution_count": 35,
     "metadata": {},
     "output_type": "execute_result"
    }
   ],
   "source": [
    "draw(g_, filename='2hop_2_query_hierarchy_can_db_v2.pdf', show=False)"
   ]
  },
  {
   "cell_type": "code",
   "execution_count": 36,
   "metadata": {},
   "outputs": [
    {
     "data": {
      "text/plain": [
       "'2hop_2_query_hierarchy_can_db_v2.gv'"
      ]
     },
     "execution_count": 36,
     "metadata": {},
     "output_type": "execute_result"
    }
   ],
   "source": [
    "draw(g_, filename='2hop_2_query_hierarchy_can_db_v2.gv', show=False)"
   ]
  },
  {
   "cell_type": "code",
   "execution_count": 38,
   "metadata": {},
   "outputs": [],
   "source": [
    "g = nx.DiGraph()\n",
    "for pw_id in range(1, len(query_analysis['pw_objs'])+1):\n",
    "    fname = query_fig_fnames[pw_id]\n",
    "    g.add_node(pw_id, image=os.path.abspath(fname),\n",
    "               shape='box', fixedsize='true', imagescale='true', size=2, label=\" \")"
   ]
  },
  {
   "cell_type": "code",
   "execution_count": 39,
   "metadata": {},
   "outputs": [
    {
     "data": {
      "image/png": "[encoded data removed]",
      "text/plain": [
       "<IPython.core.display.Image object>"
      ]
     },
     "execution_count": 39,
     "metadata": {},
     "output_type": "execute_result"
    }
   ],
   "source": [
    "for pw_id1 in range(1, len(query_analysis['pw_objs'])+1):\n",
    "    for pw_id2 in range(1, len(query_analysis['pw_objs'])+1):\n",
    "        if pw_id1 == pw_id2:\n",
    "            continue\n",
    "        if q1_contains_q2(query_analysis['pw_objs'][pw_id1-1], query_analysis['pw_objs'][pw_id2-1]):\n",
    "            g.add_edge(pw_id1, pw_id2, dir='back')\n",
    "\n",
    "draw(g)"
   ]
  },
  {
   "cell_type": "code",
   "execution_count": 40,
   "metadata": {},
   "outputs": [],
   "source": [
    "keep_running = True\n",
    "\n",
    "while keep_running:\n",
    "    keep_running=False\n",
    "    for eu, ev in list(g.edges):\n",
    "        if (ev,eu) in list(g.edges):\n",
    "            print(f\"Merging {eu} and {ev}\")\n",
    "            g = nx.contracted_nodes(g, min(eu,ev), max(eu,ev), self_loops=False)\n",
    "            keep_running = True\n",
    "            break"
   ]
  },
  {
   "cell_type": "code",
   "execution_count": 41,
   "metadata": {},
   "outputs": [
    {
     "data": {
      "image/png": "[encoded data removed]",
      "text/plain": [
       "<IPython.core.display.Image object>"
      ]
     },
     "execution_count": 41,
     "metadata": {},
     "output_type": "execute_result"
    }
   ],
   "source": [
    "draw(g)"
   ]
  },
  {
   "cell_type": "markdown",
   "metadata": {},
   "source": [
    "To make the hierarchy easier to analyze, we remove the redundant transitive edges using a transitive reduction."
   ]
  },
  {
   "cell_type": "code",
   "execution_count": 42,
   "metadata": {},
   "outputs": [
    {
     "data": {
      "image/png": "[encoded data removed]",
      "text/plain": [
       "<IPython.core.display.Image object>"
      ]
     },
     "execution_count": 42,
     "metadata": {},
     "output_type": "execute_result"
    }
   ],
   "source": [
    "g_ = nx.algorithms.dag.transitive_reduction(g)\n",
    "\n",
    "# Copy over the style properties (the nx.algorithms.dag.transitive_reduction loses these)\n",
    "for n in g.nodes:\n",
    "    for k,v in g.nodes[n].items():\n",
    "        g_.nodes[n][k] = v\n",
    "for e in g_.edges:\n",
    "    g_.edges[e]['dir'] = 'back'\n",
    "draw(g_)"
   ]
  },
  {
   "cell_type": "markdown",
   "metadata": {},
   "source": [
    "The arrows can be iterpreted as ___'isa'___ relations."
   ]
  },
  {
   "cell_type": "code",
   "execution_count": 43,
   "metadata": {},
   "outputs": [
    {
     "data": {
      "text/plain": [
       "'2hop_2_query_hierarchy_homomorphism.pdf'"
      ]
     },
     "execution_count": 43,
     "metadata": {},
     "output_type": "execute_result"
    }
   ],
   "source": [
    "draw(g_, filename='2hop_2_query_hierarchy_homomorphsim.gv', show=False)\n",
    "draw(g_, filename='2hop_2_query_hierarchy_homomorphism.pdf', show=False)"
   ]
  },
  {
   "cell_type": "code",
   "execution_count": null,
   "metadata": {},
   "outputs": [],
   "source": []
  },
  {
   "cell_type": "code",
   "execution_count": 45,
   "metadata": {},
   "outputs": [],
   "source": [
    "def get_canonical_db_mod(pw_rel_dfs, include_head=True, pw_id=None):\n",
    "    canonical_db = {}\n",
    "    for _, row in pw_rel_dfs['newArc_4'].iterrows():\n",
    "        rule = (row['ATOM'], int(row['OCC']))\n",
    "        pos = int(row['POS'])\n",
    "        var = row['VAR']\n",
    "        if rule not in canonical_db:\n",
    "            canonical_db[rule] = {}\n",
    "        canonical_db[rule][pos] = var\n",
    "        \n",
    "    if include_head:\n",
    "        if 'ruleH_1' in pw_rel_dfs:\n",
    "            for _, row in pw_rel_dfs['ruleH_1'].iterrows():\n",
    "                rule = row['HEAD']\n",
    "                if rule not in canonical_db:\n",
    "                    canonical_db[rule] = {}\n",
    "        if 'newHArc_3' in pw_rel_dfs:\n",
    "            for _, row in pw_rel_dfs['newHArc_3'].iterrows():\n",
    "                rule = row['HEAD']\n",
    "                pos = int(row['POS'])\n",
    "                var = row['VAR']\n",
    "                if rule not in canonical_db:\n",
    "                    canonical_db[rule] = {}\n",
    "                canonical_db[rule][pos] = var\n",
    "    \n",
    "#     if include_head and ('newHArc_3' in pw_rel_dfs):\n",
    "#         for _, row in pw_rel_dfs['newHArc_3'].iterrows():\n",
    "#             rule = row['HEAD']\n",
    "#             pos = int(row['POS'])\n",
    "#             var = row['VAR']\n",
    "#             if rule not in canonical_db:\n",
    "#                 canonical_db[rule] = {}\n",
    "#             canonical_db[rule][pos] = var\n",
    "\n",
    "    canonical_db_fact_strs = []\n",
    "    for rule, rule_desc in canonical_db.items():\n",
    "        if isinstance(rule, tuple):\n",
    "            rule = rule[0]\n",
    "        r_body = [rule_desc[k] for k in sorted(rule_desc.keys())]\n",
    "        if pw_id is not None:\n",
    "            r_body.insert(0, str(pw_id))\n",
    "        if len(r_body) > 0:\n",
    "            r_body_j = ', '.join(r_body)\n",
    "            canonical_db_fact_strs.append(f'{rule}({r_body_j}).')\n",
    "        else:\n",
    "            canonical_db_fact_strs.append(f'{rule}.')\n",
    "        \n",
    "    return canonical_db_fact_strs"
   ]
  },
  {
   "cell_type": "code",
   "execution_count": 46,
   "metadata": {
    "scrolled": true
   },
   "outputs": [],
   "source": [
    "can_dbs = []\n",
    "q_strs = []\n",
    "for i in range(1, len(query_analysis['pw_objs'])+1):\n",
    "    \n",
    "    pw_rel_dfs, pw_objs = pw_slicer(query_analysis['pw_rel_dfs'], query_analysis['pw_objs'], [i])\n",
    "    pw_obj = pw_objs[0]\n",
    "    pw_can_db = get_canonical_db_mod(pw_rel_dfs, pw_id=i)\n",
    "    can_dbs.extend(pw_can_db)\n",
    "    #print(pw_can_db)\n",
    "    pw_q_str = print_rewritten_query_string(pw_rel_dfs, html=False, display_q=False, include_ineqls=False)\n",
    "    pw_q_str = pw_q_str.replace('thop(', f'q({i},QID,')\n",
    "    pw_q_str = pw_q_str.replace('e(', f'e(QID,')\n",
    "    pw_q_str = pw_q_str.replace('.', ', qid(QID).')\n",
    "    q_strs.append(pw_q_str)\n",
    "    #print(pw_q_str)\n",
    "    "
   ]
  },
  {
   "cell_type": "code",
   "execution_count": 47,
   "metadata": {
    "scrolled": true
   },
   "outputs": [
    {
     "name": "stdout",
     "output_type": "stream",
     "text": [
      "e(1, \"X\", \"Z\").\n",
      "e(1, \"Z\", \"Y\").\n",
      "thop(1, \"X\", \"Y\").\n",
      "e(2, \"X\", \"Y\").\n",
      "e(2, \"Y\", \"Y\").\n",
      "thop(2, \"X\", \"Y\").\n",
      "e(3, \"X\", \"X\").\n",
      "e(3, \"X\", \"Y\").\n",
      "thop(3, \"X\", \"Y\").\n",
      "e(4, \"X\", \"Z\").\n",
      "e(4, \"Z\", \"X\").\n",
      "thop(4, \"X\", \"X\").\n",
      "e(5, \"X\", \"X\").\n",
      "e(5, \"X\", \"X\").\n",
      "thop(5, \"X\", \"X\").\n",
      "q(1,QID,X,Y) :- e(QID,X,Z), e(QID,Z,Y), qid(QID).\n",
      "q(2,QID,X,Y) :- e(QID,X,Y), e(QID,Y,Y), qid(QID).\n",
      "q(3,QID,X,Y) :- e(QID,X,X), e(QID,X,Y), qid(QID).\n",
      "q(4,QID,X,X) :- e(QID,X,Z), e(QID,Z,X), qid(QID).\n",
      "q(5,QID,X,X) :- e(QID,X,X), e(QID,X,X), qid(QID).\n"
     ]
    }
   ],
   "source": [
    "print(\"\\n\".join(can_dbs+q_strs))"
   ]
  },
  {
   "cell_type": "code",
   "execution_count": 48,
   "metadata": {},
   "outputs": [],
   "source": [
    "def create_containment_aio_encoding(query_str, num_queries):\n",
    "    listener = parse_dlv_rules(query_str, print_parse_tree=False)\n",
    "    logic_atom_types = set([])\n",
    "    \n",
    "    qid_dec_rule = f'qid(1..{num_queries}).'\n",
    "    \n",
    "    assert len(listener.rules) == 1\n",
    "    rule = listener.rules[0]\n",
    "    head_atoms = rule[0]\n",
    "    assert len(head_atoms) == 1\n",
    "    head_atom = head_atoms[0]\n",
    "    head_atom_name, head_atom_arity = head_atom.rel_name, head_atom.rel_arity\n",
    "    \n",
    "    q_args = ['QID1', 'QID2'] + [f'A{i}' for i in range(head_atom_arity)]\n",
    "    \n",
    "    doesnt_contain_rule = 'doesnt_contain(QID1, QID2) :- not q({}), {}({}), qid(QID1), qid(QID2).'.format(','.join(q_args), head_atom_name, ','.join(q_args[1:]))\n",
    "    contains_rule = 'contains(QID1, QID2) :- not doesnt_contain(QID1, QID2), qid(QID1), qid(QID2), QID1 != QID2.'\n",
    "    contains_transitive_rule = 'contains(QID1, QID3) :- contains(QID1, QID2), contains(QID2, QID3), qid(QID1), qid(QID2), qid(QID3).'\n",
    "    \n",
    "    graphviz_annotations = [\n",
    "        '%graphviz graph graph_type=directed rankdir=TB',\n",
    "        '%graphviz edge contains(HEAD, TAIL)'\n",
    "    ]\n",
    "    show_rule = '#show contains/2.'\n",
    "    \n",
    "    return [qid_dec_rule, doesnt_contain_rule, contains_rule, contains_transitive_rule, *graphviz_annotations, show_rule]"
   ]
  },
  {
   "cell_type": "code",
   "execution_count": 49,
   "metadata": {},
   "outputs": [
    {
     "data": {
      "text/html": [
       "\n",
       "        <style>\n",
       "        .highlight .hll { background-color: #ffffcc }\n",
       ".highlight  { background: #f8f8f8; }\n",
       ".highlight .c { color: #408080; font-style: italic } /* Comment */\n",
       ".highlight .err { border: 1px solid #FF0000 } /* Error */\n",
       ".highlight .k { color: #008000; font-weight: bold } /* Keyword */\n",
       ".highlight .o { color: #666666 } /* Operator */\n",
       ".highlight .ch { color: #408080; font-style: italic } /* Comment.Hashbang */\n",
       ".highlight .cm { color: #408080; font-style: italic } /* Comment.Multiline */\n",
       ".highlight .cp { color: #BC7A00 } /* Comment.Preproc */\n",
       ".highlight .cpf { color: #408080; font-style: italic } /* Comment.PreprocFile */\n",
       ".highlight .c1 { color: #408080; font-style: italic } /* Comment.Single */\n",
       ".highlight .cs { color: #408080; font-style: italic } /* Comment.Special */\n",
       ".highlight .gd { color: #A00000 } /* Generic.Deleted */\n",
       ".highlight .ge { font-style: italic } /* Generic.Emph */\n",
       ".highlight .gr { color: #FF0000 } /* Generic.Error */\n",
       ".highlight .gh { color: #000080; font-weight: bold } /* Generic.Heading */\n",
       ".highlight .gi { color: #00A000 } /* Generic.Inserted */\n",
       ".highlight .go { color: #888888 } /* Generic.Output */\n",
       ".highlight .gp { color: #000080; font-weight: bold } /* Generic.Prompt */\n",
       ".highlight .gs { font-weight: bold } /* Generic.Strong */\n",
       ".highlight .gu { color: #800080; font-weight: bold } /* Generic.Subheading */\n",
       ".highlight .gt { color: #0044DD } /* Generic.Traceback */\n",
       ".highlight .kc { color: #008000; font-weight: bold } /* Keyword.Constant */\n",
       ".highlight .kd { color: #008000; font-weight: bold } /* Keyword.Declaration */\n",
       ".highlight .kn { color: #008000; font-weight: bold } /* Keyword.Namespace */\n",
       ".highlight .kp { color: #008000 } /* Keyword.Pseudo */\n",
       ".highlight .kr { color: #008000; font-weight: bold } /* Keyword.Reserved */\n",
       ".highlight .kt { color: #B00040 } /* Keyword.Type */\n",
       ".highlight .m { color: #666666 } /* Literal.Number */\n",
       ".highlight .s { color: #BA2121 } /* Literal.String */\n",
       ".highlight .na { color: #7D9029 } /* Name.Attribute */\n",
       ".highlight .nb { color: #008000 } /* Name.Builtin */\n",
       ".highlight .nc { color: #0000FF; font-weight: bold } /* Name.Class */\n",
       ".highlight .no { color: #880000 } /* Name.Constant */\n",
       ".highlight .nd { color: #AA22FF } /* Name.Decorator */\n",
       ".highlight .ni { color: #999999; font-weight: bold } /* Name.Entity */\n",
       ".highlight .ne { color: #D2413A; font-weight: bold } /* Name.Exception */\n",
       ".highlight .nf { color: #0000FF } /* Name.Function */\n",
       ".highlight .nl { color: #A0A000 } /* Name.Label */\n",
       ".highlight .nn { color: #0000FF; font-weight: bold } /* Name.Namespace */\n",
       ".highlight .nt { color: #008000; font-weight: bold } /* Name.Tag */\n",
       ".highlight .nv { color: #19177C } /* Name.Variable */\n",
       ".highlight .ow { color: #AA22FF; font-weight: bold } /* Operator.Word */\n",
       ".highlight .w { color: #bbbbbb } /* Text.Whitespace */\n",
       ".highlight .mb { color: #666666 } /* Literal.Number.Bin */\n",
       ".highlight .mf { color: #666666 } /* Literal.Number.Float */\n",
       ".highlight .mh { color: #666666 } /* Literal.Number.Hex */\n",
       ".highlight .mi { color: #666666 } /* Literal.Number.Integer */\n",
       ".highlight .mo { color: #666666 } /* Literal.Number.Oct */\n",
       ".highlight .sa { color: #BA2121 } /* Literal.String.Affix */\n",
       ".highlight .sb { color: #BA2121 } /* Literal.String.Backtick */\n",
       ".highlight .sc { color: #BA2121 } /* Literal.String.Char */\n",
       ".highlight .dl { color: #BA2121 } /* Literal.String.Delimiter */\n",
       ".highlight .sd { color: #BA2121; font-style: italic } /* Literal.String.Doc */\n",
       ".highlight .s2 { color: #BA2121 } /* Literal.String.Double */\n",
       ".highlight .se { color: #BB6622; font-weight: bold } /* Literal.String.Escape */\n",
       ".highlight .sh { color: #BA2121 } /* Literal.String.Heredoc */\n",
       ".highlight .si { color: #BB6688; font-weight: bold } /* Literal.String.Interpol */\n",
       ".highlight .sx { color: #008000 } /* Literal.String.Other */\n",
       ".highlight .sr { color: #BB6688 } /* Literal.String.Regex */\n",
       ".highlight .s1 { color: #BA2121 } /* Literal.String.Single */\n",
       ".highlight .ss { color: #19177C } /* Literal.String.Symbol */\n",
       ".highlight .bp { color: #008000 } /* Name.Builtin.Pseudo */\n",
       ".highlight .fm { color: #0000FF } /* Name.Function.Magic */\n",
       ".highlight .vc { color: #19177C } /* Name.Variable.Class */\n",
       ".highlight .vg { color: #19177C } /* Name.Variable.Global */\n",
       ".highlight .vi { color: #19177C } /* Name.Variable.Instance */\n",
       ".highlight .vm { color: #19177C } /* Name.Variable.Magic */\n",
       ".highlight .il { color: #666666 } /* Literal.Number.Integer.Long */\n",
       "        </style>\n",
       "        "
      ],
      "text/plain": [
       "<IPython.core.display.HTML object>"
      ]
     },
     "metadata": {},
     "output_type": "display_data"
    },
    {
     "data": {
      "text/html": [
       "<div class=\"highlight\"><pre><span></span><span class=\"lineno\">1 </span><span class=\"nf\">qid</span><span class=\"p\">(</span><span class=\"mf\">1..5</span><span class=\"p\">).</span>\n",
       "<span class=\"lineno\">2 </span><span class=\"nf\">doesnt_contain</span><span class=\"p\">(</span><span class=\"nv\">QID1</span><span class=\"p\">,</span> <span class=\"nv\">QID2</span><span class=\"p\">)</span> <span class=\"p\">:-</span> <span class=\"o\">not</span> <span class=\"nf\">q</span><span class=\"p\">(</span><span class=\"nv\">QID1</span><span class=\"p\">,</span><span class=\"nv\">QID2</span><span class=\"p\">,</span><span class=\"nv\">A0</span><span class=\"p\">,</span><span class=\"nv\">A1</span><span class=\"p\">),</span> <span class=\"nf\">thop</span><span class=\"p\">(</span><span class=\"nv\">QID2</span><span class=\"p\">,</span><span class=\"nv\">A0</span><span class=\"p\">,</span><span class=\"nv\">A1</span><span class=\"p\">),</span> <span class=\"nf\">qid</span><span class=\"p\">(</span><span class=\"nv\">QID1</span><span class=\"p\">),</span> <span class=\"nf\">qid</span><span class=\"p\">(</span><span class=\"nv\">QID2</span><span class=\"p\">).</span>\n",
       "<span class=\"lineno\">3 </span><span class=\"nf\">contains</span><span class=\"p\">(</span><span class=\"nv\">QID1</span><span class=\"p\">,</span> <span class=\"nv\">QID2</span><span class=\"p\">)</span> <span class=\"p\">:-</span> <span class=\"o\">not</span> <span class=\"nf\">doesnt_contain</span><span class=\"p\">(</span><span class=\"nv\">QID1</span><span class=\"p\">,</span> <span class=\"nv\">QID2</span><span class=\"p\">),</span> <span class=\"nf\">qid</span><span class=\"p\">(</span><span class=\"nv\">QID1</span><span class=\"p\">),</span> <span class=\"nf\">qid</span><span class=\"p\">(</span><span class=\"nv\">QID2</span><span class=\"p\">),</span> <span class=\"nv\">QID1</span> <span class=\"p\">!</span><span class=\"o\">=</span> <span class=\"nv\">QID2</span><span class=\"p\">.</span>\n",
       "<span class=\"lineno\">4 </span><span class=\"nf\">contains</span><span class=\"p\">(</span><span class=\"nv\">QID1</span><span class=\"p\">,</span> <span class=\"nv\">QID3</span><span class=\"p\">)</span> <span class=\"p\">:-</span> <span class=\"nf\">contains</span><span class=\"p\">(</span><span class=\"nv\">QID1</span><span class=\"p\">,</span> <span class=\"nv\">QID2</span><span class=\"p\">),</span> <span class=\"nf\">contains</span><span class=\"p\">(</span><span class=\"nv\">QID2</span><span class=\"p\">,</span> <span class=\"nv\">QID3</span><span class=\"p\">),</span> <span class=\"nf\">qid</span><span class=\"p\">(</span><span class=\"nv\">QID1</span><span class=\"p\">),</span> <span class=\"nf\">qid</span><span class=\"p\">(</span><span class=\"nv\">QID2</span><span class=\"p\">),</span> <span class=\"nf\">qid</span><span class=\"p\">(</span><span class=\"nv\">QID3</span><span class=\"p\">).</span>\n",
       "<span class=\"lineno\">5 </span><span class=\"c1\">%graphviz graph graph_type=directed rankdir=TB</span>\n",
       "<span class=\"lineno\">6 </span><span class=\"c1\">%graphviz edge contains(HEAD, TAIL)</span>\n",
       "<span class=\"lineno\">7 </span><span class=\"c1\">#show contains/2.</span>\n",
       "</pre></div>\n"
      ],
      "text/plain": [
       "'qid(1..5).\\ndoesnt_contain(QID1, QID2) :- not q(QID1,QID2,A0,A1), thop(QID2,A0,A1), qid(QID1), qid(QID2).\\ncontains(QID1, QID2) :- not doesnt_contain(QID1, QID2), qid(QID1), qid(QID2), QID1 != QID2.\\ncontains(QID1, QID3) :- contains(QID1, QID2), contains(QID2, QID3), qid(QID1), qid(QID2), qid(QID3).\\n%graphviz graph graph_type=directed rankdir=TB\\n%graphviz edge contains(HEAD, TAIL)\\n#show contains/2.'"
      ]
     },
     "execution_count": 49,
     "metadata": {},
     "output_type": "execute_result"
    }
   ],
   "source": [
    "containment_aio = '\\n'.join(create_containment_aio_encoding(query_str, len(query_analysis['pw_objs'])))\n",
    "ASPRules(containment_aio)"
   ]
  },
  {
   "cell_type": "code",
   "execution_count": 50,
   "metadata": {},
   "outputs": [
    {
     "name": "stdout",
     "output_type": "stream",
     "text": [
      "Output:\n"
     ]
    },
    {
     "data": {
      "text/html": [
       "\n",
       "        <style>\n",
       "        .highlight .hll { background-color: #ffffcc }\n",
       ".highlight  { background: #f8f8f8; }\n",
       ".highlight .c { color: #408080; font-style: italic } /* Comment */\n",
       ".highlight .err { border: 1px solid #FF0000 } /* Error */\n",
       ".highlight .k { color: #008000; font-weight: bold } /* Keyword */\n",
       ".highlight .o { color: #666666 } /* Operator */\n",
       ".highlight .ch { color: #408080; font-style: italic } /* Comment.Hashbang */\n",
       ".highlight .cm { color: #408080; font-style: italic } /* Comment.Multiline */\n",
       ".highlight .cp { color: #BC7A00 } /* Comment.Preproc */\n",
       ".highlight .cpf { color: #408080; font-style: italic } /* Comment.PreprocFile */\n",
       ".highlight .c1 { color: #408080; font-style: italic } /* Comment.Single */\n",
       ".highlight .cs { color: #408080; font-style: italic } /* Comment.Special */\n",
       ".highlight .gd { color: #A00000 } /* Generic.Deleted */\n",
       ".highlight .ge { font-style: italic } /* Generic.Emph */\n",
       ".highlight .gr { color: #FF0000 } /* Generic.Error */\n",
       ".highlight .gh { color: #000080; font-weight: bold } /* Generic.Heading */\n",
       ".highlight .gi { color: #00A000 } /* Generic.Inserted */\n",
       ".highlight .go { color: #888888 } /* Generic.Output */\n",
       ".highlight .gp { color: #000080; font-weight: bold } /* Generic.Prompt */\n",
       ".highlight .gs { font-weight: bold } /* Generic.Strong */\n",
       ".highlight .gu { color: #800080; font-weight: bold } /* Generic.Subheading */\n",
       ".highlight .gt { color: #0044DD } /* Generic.Traceback */\n",
       ".highlight .kc { color: #008000; font-weight: bold } /* Keyword.Constant */\n",
       ".highlight .kd { color: #008000; font-weight: bold } /* Keyword.Declaration */\n",
       ".highlight .kn { color: #008000; font-weight: bold } /* Keyword.Namespace */\n",
       ".highlight .kp { color: #008000 } /* Keyword.Pseudo */\n",
       ".highlight .kr { color: #008000; font-weight: bold } /* Keyword.Reserved */\n",
       ".highlight .kt { color: #B00040 } /* Keyword.Type */\n",
       ".highlight .m { color: #666666 } /* Literal.Number */\n",
       ".highlight .s { color: #BA2121 } /* Literal.String */\n",
       ".highlight .na { color: #7D9029 } /* Name.Attribute */\n",
       ".highlight .nb { color: #008000 } /* Name.Builtin */\n",
       ".highlight .nc { color: #0000FF; font-weight: bold } /* Name.Class */\n",
       ".highlight .no { color: #880000 } /* Name.Constant */\n",
       ".highlight .nd { color: #AA22FF } /* Name.Decorator */\n",
       ".highlight .ni { color: #999999; font-weight: bold } /* Name.Entity */\n",
       ".highlight .ne { color: #D2413A; font-weight: bold } /* Name.Exception */\n",
       ".highlight .nf { color: #0000FF } /* Name.Function */\n",
       ".highlight .nl { color: #A0A000 } /* Name.Label */\n",
       ".highlight .nn { color: #0000FF; font-weight: bold } /* Name.Namespace */\n",
       ".highlight .nt { color: #008000; font-weight: bold } /* Name.Tag */\n",
       ".highlight .nv { color: #19177C } /* Name.Variable */\n",
       ".highlight .ow { color: #AA22FF; font-weight: bold } /* Operator.Word */\n",
       ".highlight .w { color: #bbbbbb } /* Text.Whitespace */\n",
       ".highlight .mb { color: #666666 } /* Literal.Number.Bin */\n",
       ".highlight .mf { color: #666666 } /* Literal.Number.Float */\n",
       ".highlight .mh { color: #666666 } /* Literal.Number.Hex */\n",
       ".highlight .mi { color: #666666 } /* Literal.Number.Integer */\n",
       ".highlight .mo { color: #666666 } /* Literal.Number.Oct */\n",
       ".highlight .sa { color: #BA2121 } /* Literal.String.Affix */\n",
       ".highlight .sb { color: #BA2121 } /* Literal.String.Backtick */\n",
       ".highlight .sc { color: #BA2121 } /* Literal.String.Char */\n",
       ".highlight .dl { color: #BA2121 } /* Literal.String.Delimiter */\n",
       ".highlight .sd { color: #BA2121; font-style: italic } /* Literal.String.Doc */\n",
       ".highlight .s2 { color: #BA2121 } /* Literal.String.Double */\n",
       ".highlight .se { color: #BB6622; font-weight: bold } /* Literal.String.Escape */\n",
       ".highlight .sh { color: #BA2121 } /* Literal.String.Heredoc */\n",
       ".highlight .si { color: #BB6688; font-weight: bold } /* Literal.String.Interpol */\n",
       ".highlight .sx { color: #008000 } /* Literal.String.Other */\n",
       ".highlight .sr { color: #BB6688 } /* Literal.String.Regex */\n",
       ".highlight .s1 { color: #BA2121 } /* Literal.String.Single */\n",
       ".highlight .ss { color: #19177C } /* Literal.String.Symbol */\n",
       ".highlight .bp { color: #008000 } /* Name.Builtin.Pseudo */\n",
       ".highlight .fm { color: #0000FF } /* Name.Function.Magic */\n",
       ".highlight .vc { color: #19177C } /* Name.Variable.Class */\n",
       ".highlight .vg { color: #19177C } /* Name.Variable.Global */\n",
       ".highlight .vi { color: #19177C } /* Name.Variable.Instance */\n",
       ".highlight .vm { color: #19177C } /* Name.Variable.Magic */\n",
       ".highlight .il { color: #666666 } /* Literal.Number.Integer.Long */\n",
       "        </style>\n",
       "        "
      ],
      "text/plain": [
       "<IPython.core.display.HTML object>"
      ]
     },
     "metadata": {},
     "output_type": "display_data"
    },
    {
     "data": {
      "text/html": [
       "<div class=\"highlight\"><pre><span></span><span class=\"lineno\">1 </span><span class=\"nv\">Answer</span><span class=\"s s-Atom\">:</span> <span class=\"mi\">1</span>\n",
       "<span class=\"lineno\">2 </span><span class=\"nf\">contains</span><span class=\"p\">(</span><span class=\"mi\">1</span><span class=\"p\">,</span><span class=\"mi\">2</span><span class=\"p\">)</span> <span class=\"nf\">contains</span><span class=\"p\">(</span><span class=\"mi\">1</span><span class=\"p\">,</span><span class=\"mi\">3</span><span class=\"p\">)</span> <span class=\"nf\">contains</span><span class=\"p\">(</span><span class=\"mi\">1</span><span class=\"p\">,</span><span class=\"mi\">4</span><span class=\"p\">)</span> <span class=\"nf\">contains</span><span class=\"p\">(</span><span class=\"mi\">1</span><span class=\"p\">,</span><span class=\"mi\">5</span><span class=\"p\">)</span> <span class=\"nf\">contains</span><span class=\"p\">(</span><span class=\"mi\">2</span><span class=\"p\">,</span><span class=\"mi\">5</span><span class=\"p\">)</span> <span class=\"nf\">contains</span><span class=\"p\">(</span><span class=\"mi\">3</span><span class=\"p\">,</span><span class=\"mi\">5</span><span class=\"p\">)</span> <span class=\"nf\">contains</span><span class=\"p\">(</span><span class=\"mi\">4</span><span class=\"p\">,</span><span class=\"mi\">5</span><span class=\"p\">)</span>\n",
       "<span class=\"lineno\">3 </span><span class=\"nv\">SATISFIABLE</span>\n",
       "<span class=\"lineno\">4 </span>\n",
       "<span class=\"lineno\">5 </span><span class=\"nv\">Models</span>       <span class=\"s s-Atom\">:</span> <span class=\"mi\">1</span>\n",
       "<span class=\"lineno\">6 </span><span class=\"nv\">Calls</span>        <span class=\"s s-Atom\">:</span> <span class=\"mi\">1</span>\n",
       "<span class=\"lineno\">7 </span><span class=\"nv\">Time</span>         <span class=\"s s-Atom\">:</span> <span class=\"mf\">0.002</span><span class=\"nf\">s</span> <span class=\"p\">(</span><span class=\"nv\">Solving</span><span class=\"s s-Atom\">:</span> <span class=\"mf\">0.00</span><span class=\"s s-Atom\">s</span> <span class=\"mi\">1</span><span class=\"s s-Atom\">st</span> <span class=\"nv\">Model</span><span class=\"s s-Atom\">:</span> <span class=\"mf\">0.00</span><span class=\"s s-Atom\">s</span> <span class=\"nv\">Unsat</span><span class=\"s s-Atom\">:</span> <span class=\"mf\">0.00</span><span class=\"s s-Atom\">s</span><span class=\"p\">)</span>\n",
       "<span class=\"lineno\">8 </span><span class=\"nv\">CPU</span> <span class=\"nv\">Time</span>     <span class=\"s s-Atom\">:</span> <span class=\"mf\">0.002</span><span class=\"s s-Atom\">s</span>\n",
       "</pre></div>\n"
      ],
      "text/plain": [
       "'Answer: 1\\ncontains(1,2) contains(1,3) contains(1,4) contains(1,5) contains(2,5) contains(3,5) contains(4,5)\\nSATISFIABLE\\n\\nModels       : 1\\nCalls        : 1\\nTime         : 0.002s (Solving: 0.00s 1st Model: 0.00s Unsat: 0.00s)\\nCPU Time     : 0.002s'"
      ]
     },
     "metadata": {},
     "output_type": "display_data"
    }
   ],
   "source": [
    "%clingo --donot-display_input -l can_dbs q_strs containment_aio -exp containment_exp"
   ]
  },
  {
   "cell_type": "code",
   "execution_count": 51,
   "metadata": {},
   "outputs": [
    {
     "name": "stdout",
     "output_type": "stream",
     "text": [
      "Number of Models: 1\n"
     ]
    }
   ],
   "source": [
    "containment_exp['pw_rel_dfs'], containment_exp['rel_schema'], containment_exp['pw_objs'] =load_worlds(containment_exp['asp_soln'],\n",
    "                                                                                                   containment_exp['meta_data'])\n"
   ]
  },
  {
   "cell_type": "code",
   "execution_count": 52,
   "metadata": {},
   "outputs": [
    {
     "data": {
      "image/png": "[encoded data removed]",
      "text/plain": [
       "<IPython.core.display.Image object>"
      ]
     },
     "execution_count": 52,
     "metadata": {},
     "output_type": "execute_result"
    }
   ],
   "source": [
    "containment_exp_g = nx.DiGraph()\n",
    "containment_exp_g.add_nodes_from(range(1, len(query_analysis['pw_objs'])+1))\n",
    "for _, row in containment_exp['pw_rel_dfs']['contains_2'].iterrows():\n",
    "    if int(row['x1']) != int(row['x2']):\n",
    "        containment_exp_g.add_edge(int(row['x1']), int(row['x2']))\n",
    "\n",
    "draw(containment_exp_g)"
   ]
  },
  {
   "cell_type": "code",
   "execution_count": 53,
   "metadata": {},
   "outputs": [
    {
     "data": {
      "image/png": "[encoded data removed]",
      "text/plain": [
       "<IPython.core.display.Image object>"
      ]
     },
     "execution_count": 53,
     "metadata": {},
     "output_type": "execute_result"
    }
   ],
   "source": [
    "keep_running = True\n",
    "while keep_running:\n",
    "    keep_running=False\n",
    "    for eu, ev in list(containment_exp_g.edges):\n",
    "        if eu == ev:\n",
    "            continue\n",
    "        if (ev,eu) in list(containment_exp_g.edges):\n",
    "            print(f\"Merging {eu} and {ev}\")\n",
    "            containment_exp_g = nx.contracted_nodes(containment_exp_g, min(eu,ev), max(eu,ev), self_loops=False)\n",
    "            keep_running = True\n",
    "            break\n",
    "\n",
    "draw(containment_exp_g)"
   ]
  },
  {
   "cell_type": "code",
   "execution_count": 54,
   "metadata": {},
   "outputs": [
    {
     "data": {
      "image/png": "[encoded data removed]",
      "text/plain": [
       "<IPython.core.display.Image object>"
      ]
     },
     "execution_count": 54,
     "metadata": {},
     "output_type": "execute_result"
    }
   ],
   "source": [
    "g_ = nx.algorithms.dag.transitive_reduction(containment_exp_g)\n",
    "\n",
    "# Copy over the style properties (the nx.algorithms.dag.transitive_reduction loses these)\n",
    "# for n in g.nodes:\n",
    "#     for k,v in g.nodes[n].items():\n",
    "#         g_.nodes[n][k] = v\n",
    "for e in g_.edges:\n",
    "    g_.edges[e]['dir'] = 'back'\n",
    "draw(g_)"
   ]
  },
  {
   "cell_type": "code",
   "execution_count": 55,
   "metadata": {},
   "outputs": [
    {
     "data": {
      "image/png": "[encoded data removed]",
      "text/plain": [
       "<IPython.core.display.Image object>"
      ]
     },
     "execution_count": 55,
     "metadata": {},
     "output_type": "execute_result"
    }
   ],
   "source": [
    "g_head_encoding = g_.copy()\n",
    "for n in g_head_encoding.nodes.keys():\n",
    "    g_head_encoding.nodes[n]['label'] = pw_id_to_head_encoding[int(n)]\n",
    "draw(g_head_encoding)"
   ]
  },
  {
   "cell_type": "code",
   "execution_count": null,
   "metadata": {},
   "outputs": [],
   "source": []
  }
 ],
 "metadata": {
  "kernelspec": {
   "display_name": "Python 3",
   "language": "python",
   "name": "python3"
  },
  "language_info": {
   "codemirror_mode": {
    "name": "ipython",
    "version": 3
   },
   "file_extension": ".py",
   "mimetype": "text/x-python",
   "name": "python",
   "nbconvert_exporter": "python",
   "pygments_lexer": "ipython3",
   "version": "3.6.8"
  }
 },
 "nbformat": 4,
 "nbformat_minor": 4
}
